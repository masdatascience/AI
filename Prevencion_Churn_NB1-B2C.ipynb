{
  "nbformat": 4,
  "nbformat_minor": 0,
  "metadata": {
    "colab": {
      "name": "Prevencion_Churn-NB1.ipynb",
      "provenance": [],
      "collapsed_sections": [],
      "machine_shape": "hm"
    },
    "kernelspec": {
      "display_name": "Python 3",
      "language": "python",
      "name": "python3"
    },
    "language_info": {
      "codemirror_mode": {
        "name": "ipython",
        "version": 3
      },
      "file_extension": ".py",
      "mimetype": "text/x-python",
      "name": "python",
      "nbconvert_exporter": "python",
      "pygments_lexer": "ipython3",
      "version": "3.7.3"
    }
  },
  "cells": [
    {
      "cell_type": "markdown",
      "metadata": {
        "colab_type": "text",
        "id": "k1PvPRCY79m-"
      },
      "source": [
        "# Prevención Fuga de Clientes\n",
        "El enfoque de la prevención es disminuir el impacto latente de la posibilidad de que alguno de los clientes deje de comprar productos. \n",
        "Con este fin se realiza la estrategia en 3 sentidos: <br>\n",
        "**1.Motor de Recomendación** <br>\n",
        "**Objetivo:** Aumentar la penetración de los productos a los clientes con el fin de fortalecer la relación comercial y su fidelización. <br>\n",
        "Este enfoque hace parte de la primera parte del notebook, con el objetivo de generar un motor de recomendación con el cual se facilite la venta de nuevos productos por medio de estrategia de datos. <br>\n",
        "*Notebook 1: Motor de recomendación* <br>\n",
        "\n",
        "**2.Nueva segmentación de información con base en los datos de los clientes y sus transacciones** <br>\n",
        "**Objetivo:** Generar nueva información de los clientes, con el objetivo de realizar una mejor gestión de estos y plantear estrategias con base en esta nueva característica de información desarrollada. <br>\n",
        "El segundo enfoque es a través de una nueva segmentación, que permita de igual forma identificar no solo como y que es posible comprar, sino generar nuevas dimensiones de análisis, para que los equipos de business intelligence, comerciales y financieros, tengan más herramientas durante sus estrategias de negocio. <br>\n",
        "*Notebook 2: Segmentación de datos* <br>\n",
        "\n",
        "**3.Predecir la Fuga de clientes** <br>\n",
        "**Objetivo:** Desarrollar un marcaje de fuga de clientes con base en la historia transaccional de cliente, permitiendo esto entrenar un modelo de Machine Learning para predecir la posible baja de clientes. <br>\n",
        "El Tercer enfoque tiene dos frentes de trabajo, el primero permite establecer a través de variables de tendencias de compra y montos, si el cliente se encuentra \"vivo\" o no. Con base en este resultado, se activa el segundo frente, el cual a través de algoritmos de Machine Learning permite predecir la fuga de clientes con base en el marcaje realizado en la primera etapa. <br>\n",
        "*Notebook 3: Predicción Fuga Clientes* <br>\n"
      ]
    },
    {
      "cell_type": "code",
      "metadata": {
        "colab_type": "code",
        "id": "tXh_3CYtd4e4",
        "colab": {}
      },
      "source": [
        ""
      ],
      "execution_count": 0,
      "outputs": []
    },
    {
      "cell_type": "markdown",
      "metadata": {
        "colab_type": "text",
        "id": "orpOJu6j8zxg"
      },
      "source": [
        "### Fuente de datos\n",
        "Los datos usando durante la tesis son de dominio publico y hacen referencia a un comercio de Brasil. <br>\n",
        "Estos datos han sido modelados en un modelo dimensional con el fin de mejorar el performance del análisis del actual tesis y permitir generar modelos de reporting/dashboard con herramientas de BI.<br>\n",
        "Los datos han sido migrados a la plataforma github con el fin que sean de dominio publico. <br>\n"
      ]
    },
    {
      "cell_type": "markdown",
      "metadata": {
        "colab_type": "text",
        "id": "1LmmcB9U8gN_"
      },
      "source": [
        "##1. Motor de Recomendación\n",
        "\n",
        "Durante esta etapa se realizarán dos enfoques de recomendación, el primero con base en productos y el segundo con base en el comportamiento de clientes.\n",
        "\n",
        "\n",
        "### 1.1 Carga de librerias y datos"
      ]
    },
    {
      "cell_type": "code",
      "metadata": {
        "colab_type": "code",
        "id": "rlke_DiE7xb2",
        "outputId": "7642811a-8435-4774-e9fb-c5ed8c54202f",
        "scrolled": true,
        "colab": {
          "base_uri": "https://localhost:8080/",
          "height": 408
        }
      },
      "source": [
        "!pip install turicreate\n",
        "# librerias requeridas\n",
        "import turicreate as tc\n",
        "import matplotlib.pyplot as plt\n",
        "import pandas as pd\n",
        "import numpy as np\n",
        "%matplotlib inline\n",
        "from sklearn.metrics.pairwise import cosine_similarity\n",
        "from sklearn.cluster import KMeans\n",
        "from sklearn.metrics import silhouette_score\n",
        "import time\n",
        "from sklearn.model_selection import train_test_split\n"
      ],
      "execution_count": 7,
      "outputs": [
        {
          "output_type": "stream",
          "text": [
            "Requirement already satisfied: turicreate in /usr/local/lib/python3.6/dist-packages (5.8)\n",
            "Requirement already satisfied: coremltools==3.0b3 in /usr/local/lib/python3.6/dist-packages (from turicreate) (3.0b3)\n",
            "Requirement already satisfied: pandas>=0.23.2 in /usr/local/lib/python3.6/dist-packages (from turicreate) (0.24.2)\n",
            "Requirement already satisfied: resampy==0.2.1 in /usr/local/lib/python3.6/dist-packages (from turicreate) (0.2.1)\n",
            "Requirement already satisfied: requests>=2.9.1 in /usr/local/lib/python3.6/dist-packages (from turicreate) (2.21.0)\n",
            "Requirement already satisfied: decorator>=4.0.9 in /usr/local/lib/python3.6/dist-packages (from turicreate) (4.4.0)\n",
            "Requirement already satisfied: prettytable==0.7.2 in /usr/local/lib/python3.6/dist-packages (from turicreate) (0.7.2)\n",
            "Requirement already satisfied: mxnet<1.2.0,>=1.1.0 in /usr/local/lib/python3.6/dist-packages (from turicreate) (1.1.0.post0)\n",
            "Requirement already satisfied: pillow>=5.2.0 in /usr/local/lib/python3.6/dist-packages (from turicreate) (6.2.0)\n",
            "Requirement already satisfied: six>=1.10.0 in /usr/local/lib/python3.6/dist-packages (from turicreate) (1.12.0)\n",
            "Requirement already satisfied: numpy==1.16.4 in /usr/local/lib/python3.6/dist-packages (from turicreate) (1.16.4)\n",
            "Requirement already satisfied: scipy>=1.1.0 in /usr/local/lib/python3.6/dist-packages (from turicreate) (1.3.1)\n",
            "Requirement already satisfied: protobuf>=3.1.0 in /usr/local/lib/python3.6/dist-packages (from coremltools==3.0b3->turicreate) (3.7.1)\n",
            "Requirement already satisfied: python-dateutil>=2.5.0 in /usr/local/lib/python3.6/dist-packages (from pandas>=0.23.2->turicreate) (2.5.3)\n",
            "Requirement already satisfied: pytz>=2011k in /usr/local/lib/python3.6/dist-packages (from pandas>=0.23.2->turicreate) (2018.9)\n",
            "Requirement already satisfied: numba>=0.32 in /usr/local/lib/python3.6/dist-packages (from resampy==0.2.1->turicreate) (0.40.1)\n",
            "Requirement already satisfied: idna<2.9,>=2.5 in /usr/local/lib/python3.6/dist-packages (from requests>=2.9.1->turicreate) (2.8)\n",
            "Requirement already satisfied: urllib3<1.25,>=1.21.1 in /usr/local/lib/python3.6/dist-packages (from requests>=2.9.1->turicreate) (1.24.3)\n",
            "Requirement already satisfied: certifi>=2017.4.17 in /usr/local/lib/python3.6/dist-packages (from requests>=2.9.1->turicreate) (2019.9.11)\n",
            "Requirement already satisfied: chardet<3.1.0,>=3.0.2 in /usr/local/lib/python3.6/dist-packages (from requests>=2.9.1->turicreate) (3.0.4)\n",
            "Requirement already satisfied: graphviz<0.9.0,>=0.8.1 in /usr/local/lib/python3.6/dist-packages (from mxnet<1.2.0,>=1.1.0->turicreate) (0.8.4)\n",
            "Requirement already satisfied: setuptools in /usr/local/lib/python3.6/dist-packages (from protobuf>=3.1.0->coremltools==3.0b3->turicreate) (41.2.0)\n",
            "Requirement already satisfied: llvmlite>=0.25.0dev0 in /usr/local/lib/python3.6/dist-packages (from numba>=0.32->resampy==0.2.1->turicreate) (0.29.0)\n"
          ],
          "name": "stdout"
        }
      ]
    },
    {
      "cell_type": "code",
      "metadata": {
        "colab_type": "code",
        "id": "wcjQe--m9v7_",
        "outputId": "d470b373-bb54-4784-f4dd-7c2cfbc08d2f",
        "colab": {
          "base_uri": "https://localhost:8080/",
          "height": 34
        }
      },
      "source": [
        "## Localización y carga de los datos\n",
        "url = 'https://github.com/masdatascience/TFM-AI/blob/master/data_model_completo.xlsx?raw=true'\n",
        "datos_modelo = pd.ExcelFile(url)\n",
        "datos_facturacion = pd.read_excel(datos_modelo, sheet_name='fac_txn')\n",
        "datos_producto = pd.read_excel(datos_modelo, sheet_name='product')\n",
        "datos_clientes = pd.read_excel(datos_modelo, sheet_name='customer')\n",
        "\n",
        "# Se elimian los datos nulos de las dimensiones importantes del analisis que son productos y clientes\n",
        "datos_facturacion = datos_facturacion.dropna(subset=['customer_id'])\n",
        "datos_facturacion = datos_facturacion.dropna(subset=['product_id'])\n",
        "# Se elimina posibles chargeback que se presenten\n",
        "datos_facturacion = datos_facturacion.loc[datos_facturacion['total_value'] > 0]\n",
        "\n",
        "print(\"Facturación:\"+ str(datos_facturacion.shape) + \" Clientes:\"+str(datos_clientes.shape)+\" Productos:\"+str(datos_producto.shape))"
      ],
      "execution_count": 8,
      "outputs": [
        {
          "output_type": "stream",
          "text": [
            "Facturación:(112650, 21) Clientes:(96352, 4) Productos:(32951, 10)\n"
          ],
          "name": "stdout"
        }
      ]
    },
    {
      "cell_type": "code",
      "metadata": {
        "id": "emaovKMPa6zr",
        "colab_type": "code",
        "colab": {}
      },
      "source": [
        "from sklearn.preprocessing import LabelEncoder\n",
        "enconder = LabelEncoder()\n",
        "datos_facturacion['ID_CLIENTE'] = enconder.fit_transform(datos_facturacion['customer_id'])\n",
        "datos_facturacion['ID_PRODUCTO'] = enconder.fit_transform(datos_facturacion['product_id'])\n"
      ],
      "execution_count": 0,
      "outputs": []
    },
    {
      "cell_type": "code",
      "metadata": {
        "id": "VohCX7BtbSIX",
        "colab_type": "code",
        "colab": {}
      },
      "source": [
        "grupo1 = ['ID_CLIENTE', 'ID_PRODUCTO', 'total_value']\n",
        "\n",
        "# Enfoque \n",
        "datos = datos_facturacion.loc[:, grupo1] "
      ],
      "execution_count": 0,
      "outputs": []
    },
    {
      "cell_type": "markdown",
      "metadata": {
        "colab_type": "text",
        "id": "gknP4zvnDMY2"
      },
      "source": [
        "### 1.2 Preparación de los datos \n",
        "En esta sección se estarán preparando tres enfoques de matrices con el fin de permitir desarrollar los motores de recomendación. La primera es la relación entre el cliente y los productos, la siguiente es una matriz normalizada y la última integra valores dummies para la comparación . "
      ]
    },
    {
      "cell_type": "markdown",
      "metadata": {
        "colab_type": "text",
        "id": "nGPFk-v0D00A"
      },
      "source": [
        "#### 1.2.1 Relación Cliente - Producto\n",
        "\n"
      ]
    },
    {
      "cell_type": "code",
      "metadata": {
        "colab_type": "code",
        "id": "zosJH8OuD6hA",
        "colab": {
          "base_uri": "https://localhost:8080/",
          "height": 51
        },
        "outputId": "e2f2ca64-0599-4806-8e86-2e2ab7e45a77"
      },
      "source": [
        "# Obtengo la Matriz Relación Cliente - Producto , y la normalizo\n",
        "matrix_usuario_producto =pd.crosstab(matri['ID_CLIENTE'],matri['ID_PRODUCTO'],values=matri['total_value'], aggfunc='sum')\n",
        "matrix_usuario_producto_norm = (matrix_usuario_producto-matrix_usuario_producto.min())/(matrix_usuario_producto.max()-matrix_usuario_producto.min())\n",
        "d = matrix_usuario_producto_norm.reset_index() \n",
        "d.index.names = ['total_frecuencia'] \n",
        "data_norm = pd.melt(d, id_vars=['ID_CLIENTE'], value_name='total_frecuencia').dropna()\n",
        "data_norm['ID_CLIENTE'] = data_norm['ID_CLIENTE'].astype(str)\n",
        "data_norm['ID_PRODUCTO'] = data_norm['ID_PRODUCTO'].astype(str)\n",
        "print(\"Matriz normalizada:\" +str(data_norm.shape))"
      ],
      "execution_count": 33,
      "outputs": [
        {
          "output_type": "stream",
          "text": [
            "Matriz normalizada:(13625, 3)\n",
            "Matriz normalizada:(13625, 3)\n"
          ],
          "name": "stdout"
        }
      ]
    },
    {
      "cell_type": "markdown",
      "metadata": {
        "colab_type": "text",
        "id": "YURTaD1qFEU7"
      },
      "source": [
        "#### 1.2.2 Relación Cliente Producto - Contraste"
      ]
    },
    {
      "cell_type": "code",
      "metadata": {
        "colab_type": "code",
        "id": "_NC9OA2RHq1_",
        "outputId": "2bf32201-272c-4b07-c29c-ff6c304a867c",
        "colab": {
          "base_uri": "https://localhost:8080/",
          "height": 34
        }
      },
      "source": [
        "datos_dummy = datos_facturacion.copy()\n",
        "datos_dummy['total_dummy'] = 1\n",
        "datos_dummy['ID_CLIENTE'] = datos_dummy['ID_CLIENTE'].astype(str)\n",
        "datos_dummy['ID_PRODUCTO'] = datos_dummy['ID_PRODUCTO'].astype(str)\n",
        "print(\"Matriz Dummy:\"+ str(datos_dummy.shape))"
      ],
      "execution_count": 34,
      "outputs": [
        {
          "output_type": "stream",
          "text": [
            "Matriz Dummy:(112650, 24)\n"
          ],
          "name": "stdout"
        }
      ]
    },
    {
      "cell_type": "markdown",
      "metadata": {
        "colab_type": "text",
        "id": "fvqgw6XDFYJ6"
      },
      "source": [
        "#### 1.2.3 Se generan datos de entrenamiento y pruebas"
      ]
    },
    {
      "cell_type": "code",
      "metadata": {
        "colab_type": "code",
        "id": "P9YYO2PWFcUk",
        "colab": {}
      },
      "source": [
        "train_data, test_data  = train_test_split(data_norm, test_size=0.3 ,random_state=1)\n",
        "train_data_dummy, test_data_dummy = train_test_split(datos_dummy, test_size=0.3 ,random_state=1)"
      ],
      "execution_count": 0,
      "outputs": []
    },
    {
      "cell_type": "markdown",
      "metadata": {
        "colab_type": "text",
        "id": "_Fzb01hyFs1-"
      },
      "source": [
        "#### 1.2.4  Se define función para ejecutar los tipos de motores de recomendación"
      ]
    },
    {
      "cell_type": "code",
      "metadata": {
        "colab_type": "code",
        "id": "kh18gKpfF0X4",
        "colab": {}
      },
      "source": [
        "# Se define una función que retorne un modelo resultado segun el enfoque que se requiere:\n",
        "# 1. Popularity : Es el item que más se a consumido en todos los clientes\n",
        "# 2. cosine :\n",
        "# 3. Pearson: \n",
        "def modelo_requerido(modelo,datos ,campo ):\n",
        "\n",
        "    train_data=tc.SFrame(datos)\n",
        "    print(\"Modelo solicitado:\"+ str(modelo))\n",
        "    if modelo == 'producto':\n",
        "        return  tc.popularity_recommender.create(train_data,user_id='ID_CLIENTE', item_id='ID_PRODUCTO', target=campo)\n",
        "    elif modelo == 'distancia_coseno':\n",
        "        return tc.item_similarity_recommender.create(train_data,user_id='ID_CLIENTE', item_id='ID_PRODUCTO', target=campo,similarity_type='cosine')\n",
        "    elif modelo == 'pearson':\n",
        "        return tc.item_similarity_recommender.create(train_data,user_id='ID_CLIENTE', item_id='ID_PRODUCTO', target=campo,similarity_type='pearson')\n",
        "    else : \n",
        "        print(\"ERROR: Modelo solicitado no existe\")\n",
        "\n",
        "#Obtiene las recomendaciones de forma visual para los clientes\n",
        "def productos_recomendado(modelo, usuarios, cantidad_recomendaciones):\n",
        "     modelo.recommend(users=list(usuarios), k=cantidad_recomendaciones).print_rows(cantidad_recomendaciones)\n",
        "\n",
        "#Evalua los modelos generados \n",
        "def evaluacion_modelos(modelo, test):\n",
        "  \n",
        "  if modelo == 'normalizado':\n",
        "        modelos_generados= [fac_producto, fac_coseno, fac_pearson]\n",
        "        nombres_modelos = ['Modelo basado en contenido', 'Modelo Colaborativo - Distancia Coseno', 'Modelo Colaborativo - Pearson']\n",
        "        test_data= tc.SFrame(test) \n",
        "        eval_counts = tc.recommender.util.compare_models(test_data, modelos_generados, model_names=nombres_modelos)\n",
        "  elif modelo == 'dummy':\n",
        "        modelos_generados= [dum_producto, dum_coseno, dum_pearson]\n",
        "        nombres_modelos = ['Modelo Dummy basado en contenido', 'Modelo Dummy Colaborativo - Distancia Coseno', 'Modelo Dummy Colaborativo - Pearson']\n",
        "        test_data= tc.SFrame(test) \n",
        "        eval_counts = tc.recommender.util.compare_models(test_data, modelos_generados, model_names=nombres_modelos)\n",
        "  else : \n",
        "        print(\"ERROR: Modelo solicitado no existe\")\n",
        "      \n",
        "#Exporta cinco  recomendaciones por cliente en google Drive      \n",
        "def exportarRecomendaciones(modelo, clientes):\n",
        "\n",
        "  lista_clientes =  list(clientes)\n",
        "  recomendaciones = modelo.recommend(users=lista_clientes, k=5)\n",
        "  resultado = recomendaciones.to_dataframe()\n",
        "  resultado['id_producto_recomendado'] = resultado.groupby(['customer_id'])['product_id'].transform(lambda x: ';'.join(x.astype(str)))\n",
        "  exportar = resultado[['customer_id', 'id_producto_recomendado']].drop_duplicates().sort_values('customer_id').set_index('customer_id')\n",
        "  exportar.to_csv('recomendaciones.csv')\n",
        "  !cp recomendaciones.csv drive/My\\ Drive/TFM-AI/\n",
        "  print(\"Se han exportado las recomendaciones en Google drive\")\n"
      ],
      "execution_count": 0,
      "outputs": []
    },
    {
      "cell_type": "markdown",
      "metadata": {
        "colab_type": "text",
        "id": "52rVRxv5YF7J"
      },
      "source": [
        "### 1.3 Modelo de recomendación basado en Contenido\n",
        "Este modelo genera recomendaciones con base en la relación de los clientes y sus productos"
      ]
    },
    {
      "cell_type": "code",
      "metadata": {
        "colab_type": "code",
        "id": "GIJ-1VLWNuaa",
        "outputId": "c0c0e18a-079e-42cf-a2e2-a1a4bd89086c",
        "colab": {
          "base_uri": "https://localhost:8080/",
          "height": 241
        }
      },
      "source": [
        "# Se generan las recomendaciones por dataset\n",
        "fac_producto = modelo_requerido('producto',train_data,'total_frecuencia' )\n",
        "dum_producto = modelo_requerido('producto' ,train_data_dummy, 'total_dummy')"
      ],
      "execution_count": 37,
      "outputs": [
        {
          "output_type": "stream",
          "text": [
            "Modelo solicitado:producto\n"
          ],
          "name": "stdout"
        },
        {
          "output_type": "display_data",
          "data": {
            "text/html": [
              "<pre>Preparing data set.</pre>"
            ],
            "text/plain": [
              "Preparing data set."
            ]
          },
          "metadata": {
            "tags": []
          }
        },
        {
          "output_type": "display_data",
          "data": {
            "text/html": [
              "<pre>    Data has 9537 observations with 9353 users and 3091 items.</pre>"
            ],
            "text/plain": [
              "    Data has 9537 observations with 9353 users and 3091 items."
            ]
          },
          "metadata": {
            "tags": []
          }
        },
        {
          "output_type": "display_data",
          "data": {
            "text/html": [
              "<pre>    Data prepared in: 0.060789s</pre>"
            ],
            "text/plain": [
              "    Data prepared in: 0.060789s"
            ]
          },
          "metadata": {
            "tags": []
          }
        },
        {
          "output_type": "display_data",
          "data": {
            "text/html": [
              "<pre>9537 observations to process; with 3091 unique items.</pre>"
            ],
            "text/plain": [
              "9537 observations to process; with 3091 unique items."
            ]
          },
          "metadata": {
            "tags": []
          }
        },
        {
          "output_type": "stream",
          "text": [
            "Modelo solicitado:producto\n"
          ],
          "name": "stdout"
        },
        {
          "output_type": "display_data",
          "data": {
            "text/html": [
              "<pre>Warning: Ignoring columns order_id, order_item_id, product_id, customer_id, customer_zip_code_prefix, shipping_limit_date, price, freight_value, total_value, credit_card, debit_card, boleto, voucher, not_defined, num_txn, order_status, order_purchase_timestamp, order_approved_at, order_delivered_carrier_date, order_delivered_customer_date, order_estimated_delivery_date;</pre>"
            ],
            "text/plain": [
              "Warning: Ignoring columns order_id, order_item_id, product_id, customer_id, customer_zip_code_prefix, shipping_limit_date, price, freight_value, total_value, credit_card, debit_card, boleto, voucher, not_defined, num_txn, order_status, order_purchase_timestamp, order_approved_at, order_delivered_carrier_date, order_delivered_customer_date, order_estimated_delivery_date;"
            ]
          },
          "metadata": {
            "tags": []
          }
        },
        {
          "output_type": "display_data",
          "data": {
            "text/html": [
              "<pre>    To use these columns in scoring predictions, use a model that allows the use of additional features.</pre>"
            ],
            "text/plain": [
              "    To use these columns in scoring predictions, use a model that allows the use of additional features."
            ]
          },
          "metadata": {
            "tags": []
          }
        },
        {
          "output_type": "display_data",
          "data": {
            "text/html": [
              "<pre>Preparing data set.</pre>"
            ],
            "text/plain": [
              "Preparing data set."
            ]
          },
          "metadata": {
            "tags": []
          }
        },
        {
          "output_type": "display_data",
          "data": {
            "text/html": [
              "<pre>    Data has 78855 observations with 69445 users and 26898 items.</pre>"
            ],
            "text/plain": [
              "    Data has 78855 observations with 69445 users and 26898 items."
            ]
          },
          "metadata": {
            "tags": []
          }
        },
        {
          "output_type": "display_data",
          "data": {
            "text/html": [
              "<pre>    Data prepared in: 0.193007s</pre>"
            ],
            "text/plain": [
              "    Data prepared in: 0.193007s"
            ]
          },
          "metadata": {
            "tags": []
          }
        },
        {
          "output_type": "display_data",
          "data": {
            "text/html": [
              "<pre>78855 observations to process; with 26898 unique items.</pre>"
            ],
            "text/plain": [
              "78855 observations to process; with 26898 unique items."
            ]
          },
          "metadata": {
            "tags": []
          }
        }
      ]
    },
    {
      "cell_type": "code",
      "metadata": {
        "id": "wRAtMNOTtWfE",
        "colab_type": "code",
        "colab": {
          "base_uri": "https://localhost:8080/",
          "height": 51
        },
        "outputId": "b59cb92d-2a96-4cee-aaaa-c9b90f854df9"
      },
      "source": [
        "# se obtienen identificadores de clientes \n",
        "data_norm.ID_CLIENTE.unique()"
      ],
      "execution_count": 38,
      "outputs": [
        {
          "output_type": "execute_result",
          "data": {
            "text/plain": [
              "array(['13297', '89261', '40208', ..., '58764', '35851', '67581'],\n",
              "      dtype=object)"
            ]
          },
          "metadata": {
            "tags": []
          },
          "execution_count": 38
        }
      ]
    },
    {
      "cell_type": "code",
      "metadata": {
        "colab_type": "code",
        "id": "IpjX_Fr3Sl2Y",
        "outputId": "3300f094-5d1f-47ed-d6c4-4aaf51c1ec1f",
        "colab": {
          "base_uri": "https://localhost:8080/",
          "height": 867
        }
      },
      "source": [
        "# Se generan las recomendaciones para un Cliente\n",
        "print(\"=============================================\")  \n",
        "print(\"Metodo: Basado en contenido - DS Normalizado\")\n",
        "print(\"============================================\")  \n",
        "productos_recomendado(fac_producto,'48821',5)\n",
        "productos_recomendado(fac_producto,'66843',5)\n",
        "\n",
        "print(\"============================================\")  \n",
        "print(\"Metodo: Basado en contenido - DS Referencia\")\n",
        "print(\"============================================\")  \n",
        "productos_recomendado(dum_producto,'48821',5)\n",
        "productos_recomendado(dum_producto,'66843',5)"
      ],
      "execution_count": 39,
      "outputs": [
        {
          "output_type": "stream",
          "text": [
            "=============================================\n",
            "Metodo: Basado en contenido - DS Normalizado\n",
            "============================================\n",
            "+------------+-------------+-------+------+\n",
            "| ID_CLIENTE | ID_PRODUCTO | score | rank |\n",
            "+------------+-------------+-------+------+\n",
            "|     4      |    11665    |  1.0  |  1   |\n",
            "|     4      |     129     |  1.0  |  2   |\n",
            "|     4      |    12214    |  1.0  |  3   |\n",
            "|     4      |     8898    |  1.0  |  4   |\n",
            "|     4      |    23665    |  1.0  |  5   |\n",
            "+------------+-------------+-------+------+\n",
            "[25 rows x 4 columns]\n",
            "\n",
            "+------------+-------------+-------+------+\n",
            "| ID_CLIENTE | ID_PRODUCTO | score | rank |\n",
            "+------------+-------------+-------+------+\n",
            "|     6      |    11665    |  1.0  |  1   |\n",
            "|     6      |     129     |  1.0  |  2   |\n",
            "|     6      |    12214    |  1.0  |  3   |\n",
            "|     6      |     8898    |  1.0  |  4   |\n",
            "|     6      |    23665    |  1.0  |  5   |\n",
            "+------------+-------------+-------+------+\n",
            "[25 rows x 4 columns]\n",
            "\n",
            "============================================\n",
            "Metodo: Basado en contenido - DS Referencia\n",
            "============================================\n",
            "+------------+-------------+-------+------+\n",
            "| ID_CLIENTE | ID_PRODUCTO | score | rank |\n",
            "+------------+-------------+-------+------+\n",
            "|     4      |     3222    |  1.0  |  1   |\n",
            "|     4      |    14119    |  1.0  |  2   |\n",
            "|     4      |    20754    |  1.0  |  3   |\n",
            "|     4      |    15951    |  1.0  |  4   |\n",
            "|     4      |    23169    |  1.0  |  5   |\n",
            "+------------+-------------+-------+------+\n",
            "[25 rows x 4 columns]\n",
            "\n",
            "+------------+-------------+-------+------+\n",
            "| ID_CLIENTE | ID_PRODUCTO | score | rank |\n",
            "+------------+-------------+-------+------+\n",
            "|     6      |     3222    |  1.0  |  1   |\n",
            "|     6      |    14119    |  1.0  |  2   |\n",
            "|     6      |    20754    |  1.0  |  3   |\n",
            "|     6      |    15951    |  1.0  |  4   |\n",
            "|     6      |    23169    |  1.0  |  5   |\n",
            "+------------+-------------+-------+------+\n",
            "[25 rows x 4 columns]\n",
            "\n"
          ],
          "name": "stdout"
        }
      ]
    },
    {
      "cell_type": "markdown",
      "metadata": {
        "colab_type": "text",
        "id": "D7p0zJxaZKD4"
      },
      "source": [
        "### 1.4 Motor de recomendación Colaborativo\n",
        "Este modelo genera recomendaciones con base en el comportamiento de compra que tienen los usuarios. <br>\n",
        "Con este fin se realizan pruebas con dos enfoques, la distancia coseno y pearson para evaluar cual es el que da mejores resultados"
      ]
    },
    {
      "cell_type": "code",
      "metadata": {
        "colab_type": "code",
        "id": "2ZjeevWDZpNO",
        "outputId": "d9378672-36f9-4e2a-a9d9-84a8fd1614ef",
        "colab": {
          "base_uri": "https://localhost:8080/",
          "height": 853
        }
      },
      "source": [
        "# Se generan las recomendaciones por dataset\n",
        "fac_coseno = modelo_requerido('distancia_coseno',train_data,'total_frecuencia' )\n",
        "dum_coseno = modelo_requerido('distancia_coseno' ,train_data_dummy, 'total_dummy')"
      ],
      "execution_count": 40,
      "outputs": [
        {
          "output_type": "stream",
          "text": [
            "Modelo solicitado:distancia_coseno\n"
          ],
          "name": "stdout"
        },
        {
          "output_type": "display_data",
          "data": {
            "text/html": [
              "<pre>Preparing data set.</pre>"
            ],
            "text/plain": [
              "Preparing data set."
            ]
          },
          "metadata": {
            "tags": []
          }
        },
        {
          "output_type": "display_data",
          "data": {
            "text/html": [
              "<pre>    Data has 9537 observations with 9353 users and 3091 items.</pre>"
            ],
            "text/plain": [
              "    Data has 9537 observations with 9353 users and 3091 items."
            ]
          },
          "metadata": {
            "tags": []
          }
        },
        {
          "output_type": "display_data",
          "data": {
            "text/html": [
              "<pre>    Data prepared in: 0.039024s</pre>"
            ],
            "text/plain": [
              "    Data prepared in: 0.039024s"
            ]
          },
          "metadata": {
            "tags": []
          }
        },
        {
          "output_type": "display_data",
          "data": {
            "text/html": [
              "<pre>Training model from provided data.</pre>"
            ],
            "text/plain": [
              "Training model from provided data."
            ]
          },
          "metadata": {
            "tags": []
          }
        },
        {
          "output_type": "display_data",
          "data": {
            "text/html": [
              "<pre>Gathering per-item and per-user statistics.</pre>"
            ],
            "text/plain": [
              "Gathering per-item and per-user statistics."
            ]
          },
          "metadata": {
            "tags": []
          }
        },
        {
          "output_type": "display_data",
          "data": {
            "text/html": [
              "<pre>+--------------------------------+------------+</pre>"
            ],
            "text/plain": [
              "+--------------------------------+------------+"
            ]
          },
          "metadata": {
            "tags": []
          }
        },
        {
          "output_type": "display_data",
          "data": {
            "text/html": [
              "<pre>| Elapsed Time (Item Statistics) | % Complete |</pre>"
            ],
            "text/plain": [
              "| Elapsed Time (Item Statistics) | % Complete |"
            ]
          },
          "metadata": {
            "tags": []
          }
        },
        {
          "output_type": "display_data",
          "data": {
            "text/html": [
              "<pre>+--------------------------------+------------+</pre>"
            ],
            "text/plain": [
              "+--------------------------------+------------+"
            ]
          },
          "metadata": {
            "tags": []
          }
        },
        {
          "output_type": "display_data",
          "data": {
            "text/html": [
              "<pre>| 465us                          | 10.5       |</pre>"
            ],
            "text/plain": [
              "| 465us                          | 10.5       |"
            ]
          },
          "metadata": {
            "tags": []
          }
        },
        {
          "output_type": "display_data",
          "data": {
            "text/html": [
              "<pre>| 1.618ms                        | 100        |</pre>"
            ],
            "text/plain": [
              "| 1.618ms                        | 100        |"
            ]
          },
          "metadata": {
            "tags": []
          }
        },
        {
          "output_type": "display_data",
          "data": {
            "text/html": [
              "<pre>+--------------------------------+------------+</pre>"
            ],
            "text/plain": [
              "+--------------------------------+------------+"
            ]
          },
          "metadata": {
            "tags": []
          }
        },
        {
          "output_type": "display_data",
          "data": {
            "text/html": [
              "<pre>Setting up lookup tables.</pre>"
            ],
            "text/plain": [
              "Setting up lookup tables."
            ]
          },
          "metadata": {
            "tags": []
          }
        },
        {
          "output_type": "display_data",
          "data": {
            "text/html": [
              "<pre>Processing data in one pass using dense lookup tables.</pre>"
            ],
            "text/plain": [
              "Processing data in one pass using dense lookup tables."
            ]
          },
          "metadata": {
            "tags": []
          }
        },
        {
          "output_type": "display_data",
          "data": {
            "text/html": [
              "<pre>+-------------------------------------+------------------+-----------------+</pre>"
            ],
            "text/plain": [
              "+-------------------------------------+------------------+-----------------+"
            ]
          },
          "metadata": {
            "tags": []
          }
        },
        {
          "output_type": "display_data",
          "data": {
            "text/html": [
              "<pre>| Elapsed Time (Constructing Lookups) | Total % Complete | Items Processed |</pre>"
            ],
            "text/plain": [
              "| Elapsed Time (Constructing Lookups) | Total % Complete | Items Processed |"
            ]
          },
          "metadata": {
            "tags": []
          }
        },
        {
          "output_type": "display_data",
          "data": {
            "text/html": [
              "<pre>+-------------------------------------+------------------+-----------------+</pre>"
            ],
            "text/plain": [
              "+-------------------------------------+------------------+-----------------+"
            ]
          },
          "metadata": {
            "tags": []
          }
        },
        {
          "output_type": "display_data",
          "data": {
            "text/html": [
              "<pre>| 15.158ms                            | 0                | 0               |</pre>"
            ],
            "text/plain": [
              "| 15.158ms                            | 0                | 0               |"
            ]
          },
          "metadata": {
            "tags": []
          }
        },
        {
          "output_type": "display_data",
          "data": {
            "text/html": [
              "<pre>| 70.169ms                            | 100              | 3091            |</pre>"
            ],
            "text/plain": [
              "| 70.169ms                            | 100              | 3091            |"
            ]
          },
          "metadata": {
            "tags": []
          }
        },
        {
          "output_type": "display_data",
          "data": {
            "text/html": [
              "<pre>+-------------------------------------+------------------+-----------------+</pre>"
            ],
            "text/plain": [
              "+-------------------------------------+------------------+-----------------+"
            ]
          },
          "metadata": {
            "tags": []
          }
        },
        {
          "output_type": "display_data",
          "data": {
            "text/html": [
              "<pre>Finalizing lookup tables.</pre>"
            ],
            "text/plain": [
              "Finalizing lookup tables."
            ]
          },
          "metadata": {
            "tags": []
          }
        },
        {
          "output_type": "display_data",
          "data": {
            "text/html": [
              "<pre>Generating candidate set for working with new users.</pre>"
            ],
            "text/plain": [
              "Generating candidate set for working with new users."
            ]
          },
          "metadata": {
            "tags": []
          }
        },
        {
          "output_type": "display_data",
          "data": {
            "text/html": [
              "<pre>Finished training in 0.076715s</pre>"
            ],
            "text/plain": [
              "Finished training in 0.076715s"
            ]
          },
          "metadata": {
            "tags": []
          }
        },
        {
          "output_type": "stream",
          "text": [
            "Modelo solicitado:distancia_coseno\n"
          ],
          "name": "stdout"
        },
        {
          "output_type": "display_data",
          "data": {
            "text/html": [
              "<pre>Warning: Ignoring columns order_id, order_item_id, product_id, customer_id, customer_zip_code_prefix, shipping_limit_date, price, freight_value, total_value, credit_card, debit_card, boleto, voucher, not_defined, num_txn, order_status, order_purchase_timestamp, order_approved_at, order_delivered_carrier_date, order_delivered_customer_date, order_estimated_delivery_date;</pre>"
            ],
            "text/plain": [
              "Warning: Ignoring columns order_id, order_item_id, product_id, customer_id, customer_zip_code_prefix, shipping_limit_date, price, freight_value, total_value, credit_card, debit_card, boleto, voucher, not_defined, num_txn, order_status, order_purchase_timestamp, order_approved_at, order_delivered_carrier_date, order_delivered_customer_date, order_estimated_delivery_date;"
            ]
          },
          "metadata": {
            "tags": []
          }
        },
        {
          "output_type": "display_data",
          "data": {
            "text/html": [
              "<pre>    To use these columns in scoring predictions, use a model that allows the use of additional features.</pre>"
            ],
            "text/plain": [
              "    To use these columns in scoring predictions, use a model that allows the use of additional features."
            ]
          },
          "metadata": {
            "tags": []
          }
        },
        {
          "output_type": "display_data",
          "data": {
            "text/html": [
              "<pre>Preparing data set.</pre>"
            ],
            "text/plain": [
              "Preparing data set."
            ]
          },
          "metadata": {
            "tags": []
          }
        },
        {
          "output_type": "display_data",
          "data": {
            "text/html": [
              "<pre>    Data has 78855 observations with 69445 users and 26898 items.</pre>"
            ],
            "text/plain": [
              "    Data has 78855 observations with 69445 users and 26898 items."
            ]
          },
          "metadata": {
            "tags": []
          }
        },
        {
          "output_type": "display_data",
          "data": {
            "text/html": [
              "<pre>    Data prepared in: 0.167155s</pre>"
            ],
            "text/plain": [
              "    Data prepared in: 0.167155s"
            ]
          },
          "metadata": {
            "tags": []
          }
        },
        {
          "output_type": "display_data",
          "data": {
            "text/html": [
              "<pre>Training model from provided data.</pre>"
            ],
            "text/plain": [
              "Training model from provided data."
            ]
          },
          "metadata": {
            "tags": []
          }
        },
        {
          "output_type": "display_data",
          "data": {
            "text/html": [
              "<pre>Gathering per-item and per-user statistics.</pre>"
            ],
            "text/plain": [
              "Gathering per-item and per-user statistics."
            ]
          },
          "metadata": {
            "tags": []
          }
        },
        {
          "output_type": "display_data",
          "data": {
            "text/html": [
              "<pre>+--------------------------------+------------+</pre>"
            ],
            "text/plain": [
              "+--------------------------------+------------+"
            ]
          },
          "metadata": {
            "tags": []
          }
        },
        {
          "output_type": "display_data",
          "data": {
            "text/html": [
              "<pre>| Elapsed Time (Item Statistics) | % Complete |</pre>"
            ],
            "text/plain": [
              "| Elapsed Time (Item Statistics) | % Complete |"
            ]
          },
          "metadata": {
            "tags": []
          }
        },
        {
          "output_type": "display_data",
          "data": {
            "text/html": [
              "<pre>+--------------------------------+------------+</pre>"
            ],
            "text/plain": [
              "+--------------------------------+------------+"
            ]
          },
          "metadata": {
            "tags": []
          }
        },
        {
          "output_type": "display_data",
          "data": {
            "text/html": [
              "<pre>| 1.091ms                        | 1.25       |</pre>"
            ],
            "text/plain": [
              "| 1.091ms                        | 1.25       |"
            ]
          },
          "metadata": {
            "tags": []
          }
        },
        {
          "output_type": "display_data",
          "data": {
            "text/html": [
              "<pre>| 10.57ms                        | 100        |</pre>"
            ],
            "text/plain": [
              "| 10.57ms                        | 100        |"
            ]
          },
          "metadata": {
            "tags": []
          }
        },
        {
          "output_type": "display_data",
          "data": {
            "text/html": [
              "<pre>+--------------------------------+------------+</pre>"
            ],
            "text/plain": [
              "+--------------------------------+------------+"
            ]
          },
          "metadata": {
            "tags": []
          }
        },
        {
          "output_type": "display_data",
          "data": {
            "text/html": [
              "<pre>Setting up lookup tables.</pre>"
            ],
            "text/plain": [
              "Setting up lookup tables."
            ]
          },
          "metadata": {
            "tags": []
          }
        },
        {
          "output_type": "display_data",
          "data": {
            "text/html": [
              "<pre>Processing data in one pass using dense lookup tables.</pre>"
            ],
            "text/plain": [
              "Processing data in one pass using dense lookup tables."
            ]
          },
          "metadata": {
            "tags": []
          }
        },
        {
          "output_type": "display_data",
          "data": {
            "text/html": [
              "<pre>+-------------------------------------+------------------+-----------------+</pre>"
            ],
            "text/plain": [
              "+-------------------------------------+------------------+-----------------+"
            ]
          },
          "metadata": {
            "tags": []
          }
        },
        {
          "output_type": "display_data",
          "data": {
            "text/html": [
              "<pre>| Elapsed Time (Constructing Lookups) | Total % Complete | Items Processed |</pre>"
            ],
            "text/plain": [
              "| Elapsed Time (Constructing Lookups) | Total % Complete | Items Processed |"
            ]
          },
          "metadata": {
            "tags": []
          }
        },
        {
          "output_type": "display_data",
          "data": {
            "text/html": [
              "<pre>+-------------------------------------+------------------+-----------------+</pre>"
            ],
            "text/plain": [
              "+-------------------------------------+------------------+-----------------+"
            ]
          },
          "metadata": {
            "tags": []
          }
        },
        {
          "output_type": "display_data",
          "data": {
            "text/html": [
              "<pre>| 746.948ms                           | 0                | 0               |</pre>"
            ],
            "text/plain": [
              "| 746.948ms                           | 0                | 0               |"
            ]
          },
          "metadata": {
            "tags": []
          }
        },
        {
          "output_type": "display_data",
          "data": {
            "text/html": [
              "<pre>| 6.10s                               | 100              | 26898           |</pre>"
            ],
            "text/plain": [
              "| 6.10s                               | 100              | 26898           |"
            ]
          },
          "metadata": {
            "tags": []
          }
        },
        {
          "output_type": "display_data",
          "data": {
            "text/html": [
              "<pre>+-------------------------------------+------------------+-----------------+</pre>"
            ],
            "text/plain": [
              "+-------------------------------------+------------------+-----------------+"
            ]
          },
          "metadata": {
            "tags": []
          }
        },
        {
          "output_type": "display_data",
          "data": {
            "text/html": [
              "<pre>Finalizing lookup tables.</pre>"
            ],
            "text/plain": [
              "Finalizing lookup tables."
            ]
          },
          "metadata": {
            "tags": []
          }
        },
        {
          "output_type": "display_data",
          "data": {
            "text/html": [
              "<pre>Generating candidate set for working with new users.</pre>"
            ],
            "text/plain": [
              "Generating candidate set for working with new users."
            ]
          },
          "metadata": {
            "tags": []
          }
        },
        {
          "output_type": "display_data",
          "data": {
            "text/html": [
              "<pre>Finished training in 6.13659s</pre>"
            ],
            "text/plain": [
              "Finished training in 6.13659s"
            ]
          },
          "metadata": {
            "tags": []
          }
        }
      ]
    },
    {
      "cell_type": "code",
      "metadata": {
        "colab_type": "code",
        "id": "0AgQTFzOZ7a6",
        "outputId": "e4d2cec2-4f5c-42b0-dcb2-af31f82bdfb6",
        "colab": {
          "base_uri": "https://localhost:8080/",
          "height": 714
        }
      },
      "source": [
        "print(\"=============================================\")  \n",
        "print(\"              DISTANCIA COSENO \")\n",
        "print(\"============================================\")  \n",
        "# Se generan las recomendaciones para un Cliente\n",
        "print(\"=============================================\")  \n",
        "print(\"Metodo: Colaborativo - DS Normalizado\")\n",
        "print(\"============================================\")  \n",
        "fac_coseno.recommend(users=list(['48821','40208']), k=5).print_rows(10)\n",
        "\n",
        "print(\"============================================\")  \n",
        "print(\"Metodo: Colaborativo - DS Referencia\")\n",
        "print(\"============================================\")  \n",
        "dum_coseno.recommend(users=list(['48821','40208']), k=5).print_rows(10)"
      ],
      "execution_count": 53,
      "outputs": [
        {
          "output_type": "stream",
          "text": [
            "=============================================\n",
            "              DISTANCIA COSENO \n",
            "============================================\n",
            "=============================================\n",
            "Metodo: Colaborativo - DS Normalizado\n",
            "============================================\n",
            "+------------+-------------+-----------------------+------+\n",
            "| ID_CLIENTE | ID_PRODUCTO |         score         | rank |\n",
            "+------------+-------------+-----------------------+------+\n",
            "|   48821    |    20343    |  0.002168806791305542 |  1   |\n",
            "|   48821    |    31535    | 0.0014860033988952637 |  2   |\n",
            "|   48821    |     8227    | 0.0009963369369506835 |  3   |\n",
            "|   48821    |    26713    | 0.0007845807075500488 |  4   |\n",
            "|   48821    |    28398    |  0.000658184289932251 |  5   |\n",
            "|   40208    |    20343    |  0.002168806791305542 |  1   |\n",
            "|   40208    |    31535    | 0.0014860033988952637 |  2   |\n",
            "|   40208    |     8227    | 0.0009963369369506835 |  3   |\n",
            "|   40208    |    26713    | 0.0007845807075500488 |  4   |\n",
            "|   40208    |    28398    |  0.000658184289932251 |  5   |\n",
            "+------------+-------------+-----------------------+------+\n",
            "[10 rows x 4 columns]\n",
            "\n",
            "============================================\n",
            "Metodo: Colaborativo - DS Referencia\n",
            "============================================\n",
            "+------------+-------------+-------+------+\n",
            "| ID_CLIENTE | ID_PRODUCTO | score | rank |\n",
            "+------------+-------------+-------+------+\n",
            "|   48821    |     3222    |  0.0  |  1   |\n",
            "|   48821    |    14119    |  0.0  |  2   |\n",
            "|   48821    |    20754    |  0.0  |  3   |\n",
            "|   48821    |    15951    |  0.0  |  4   |\n",
            "|   48821    |    23169    |  0.0  |  5   |\n",
            "|   40208    |     3222    |  0.0  |  1   |\n",
            "|   40208    |    14119    |  0.0  |  2   |\n",
            "|   40208    |    20754    |  0.0  |  3   |\n",
            "|   40208    |    15951    |  0.0  |  4   |\n",
            "|   40208    |    23169    |  0.0  |  5   |\n",
            "+------------+-------------+-------+------+\n",
            "[10 rows x 4 columns]\n",
            "\n"
          ],
          "name": "stdout"
        }
      ]
    },
    {
      "cell_type": "code",
      "metadata": {
        "colab_type": "code",
        "id": "bM3u55tOaSOg",
        "outputId": "70b59de2-39dc-435a-ea8e-b59f650ac34f",
        "colab": {
          "base_uri": "https://localhost:8080/",
          "height": 853
        }
      },
      "source": [
        "# Se generan las recomendaciones por dataset\n",
        "fac_pearson= modelo_requerido('pearson',train_data,'total_frecuencia' )\n",
        "dum_pearson = modelo_requerido('pearson' ,train_data_dummy, 'total_dummy')"
      ],
      "execution_count": 42,
      "outputs": [
        {
          "output_type": "stream",
          "text": [
            "Modelo solicitado:pearson\n"
          ],
          "name": "stdout"
        },
        {
          "output_type": "display_data",
          "data": {
            "text/html": [
              "<pre>Preparing data set.</pre>"
            ],
            "text/plain": [
              "Preparing data set."
            ]
          },
          "metadata": {
            "tags": []
          }
        },
        {
          "output_type": "display_data",
          "data": {
            "text/html": [
              "<pre>    Data has 9537 observations with 9353 users and 3091 items.</pre>"
            ],
            "text/plain": [
              "    Data has 9537 observations with 9353 users and 3091 items."
            ]
          },
          "metadata": {
            "tags": []
          }
        },
        {
          "output_type": "display_data",
          "data": {
            "text/html": [
              "<pre>    Data prepared in: 0.032797s</pre>"
            ],
            "text/plain": [
              "    Data prepared in: 0.032797s"
            ]
          },
          "metadata": {
            "tags": []
          }
        },
        {
          "output_type": "display_data",
          "data": {
            "text/html": [
              "<pre>Training model from provided data.</pre>"
            ],
            "text/plain": [
              "Training model from provided data."
            ]
          },
          "metadata": {
            "tags": []
          }
        },
        {
          "output_type": "display_data",
          "data": {
            "text/html": [
              "<pre>Gathering per-item and per-user statistics.</pre>"
            ],
            "text/plain": [
              "Gathering per-item and per-user statistics."
            ]
          },
          "metadata": {
            "tags": []
          }
        },
        {
          "output_type": "display_data",
          "data": {
            "text/html": [
              "<pre>+--------------------------------+------------+</pre>"
            ],
            "text/plain": [
              "+--------------------------------+------------+"
            ]
          },
          "metadata": {
            "tags": []
          }
        },
        {
          "output_type": "display_data",
          "data": {
            "text/html": [
              "<pre>| Elapsed Time (Item Statistics) | % Complete |</pre>"
            ],
            "text/plain": [
              "| Elapsed Time (Item Statistics) | % Complete |"
            ]
          },
          "metadata": {
            "tags": []
          }
        },
        {
          "output_type": "display_data",
          "data": {
            "text/html": [
              "<pre>+--------------------------------+------------+</pre>"
            ],
            "text/plain": [
              "+--------------------------------+------------+"
            ]
          },
          "metadata": {
            "tags": []
          }
        },
        {
          "output_type": "display_data",
          "data": {
            "text/html": [
              "<pre>| 569us                          | 10.5       |</pre>"
            ],
            "text/plain": [
              "| 569us                          | 10.5       |"
            ]
          },
          "metadata": {
            "tags": []
          }
        },
        {
          "output_type": "display_data",
          "data": {
            "text/html": [
              "<pre>| 1.756ms                        | 100        |</pre>"
            ],
            "text/plain": [
              "| 1.756ms                        | 100        |"
            ]
          },
          "metadata": {
            "tags": []
          }
        },
        {
          "output_type": "display_data",
          "data": {
            "text/html": [
              "<pre>+--------------------------------+------------+</pre>"
            ],
            "text/plain": [
              "+--------------------------------+------------+"
            ]
          },
          "metadata": {
            "tags": []
          }
        },
        {
          "output_type": "display_data",
          "data": {
            "text/html": [
              "<pre>Setting up lookup tables.</pre>"
            ],
            "text/plain": [
              "Setting up lookup tables."
            ]
          },
          "metadata": {
            "tags": []
          }
        },
        {
          "output_type": "display_data",
          "data": {
            "text/html": [
              "<pre>Processing data in one pass using dense lookup tables.</pre>"
            ],
            "text/plain": [
              "Processing data in one pass using dense lookup tables."
            ]
          },
          "metadata": {
            "tags": []
          }
        },
        {
          "output_type": "display_data",
          "data": {
            "text/html": [
              "<pre>+-------------------------------------+------------------+-----------------+</pre>"
            ],
            "text/plain": [
              "+-------------------------------------+------------------+-----------------+"
            ]
          },
          "metadata": {
            "tags": []
          }
        },
        {
          "output_type": "display_data",
          "data": {
            "text/html": [
              "<pre>| Elapsed Time (Constructing Lookups) | Total % Complete | Items Processed |</pre>"
            ],
            "text/plain": [
              "| Elapsed Time (Constructing Lookups) | Total % Complete | Items Processed |"
            ]
          },
          "metadata": {
            "tags": []
          }
        },
        {
          "output_type": "display_data",
          "data": {
            "text/html": [
              "<pre>+-------------------------------------+------------------+-----------------+</pre>"
            ],
            "text/plain": [
              "+-------------------------------------+------------------+-----------------+"
            ]
          },
          "metadata": {
            "tags": []
          }
        },
        {
          "output_type": "display_data",
          "data": {
            "text/html": [
              "<pre>| 14.492ms                            | 0                | 0               |</pre>"
            ],
            "text/plain": [
              "| 14.492ms                            | 0                | 0               |"
            ]
          },
          "metadata": {
            "tags": []
          }
        },
        {
          "output_type": "display_data",
          "data": {
            "text/html": [
              "<pre>| 73.144ms                            | 100              | 3091            |</pre>"
            ],
            "text/plain": [
              "| 73.144ms                            | 100              | 3091            |"
            ]
          },
          "metadata": {
            "tags": []
          }
        },
        {
          "output_type": "display_data",
          "data": {
            "text/html": [
              "<pre>+-------------------------------------+------------------+-----------------+</pre>"
            ],
            "text/plain": [
              "+-------------------------------------+------------------+-----------------+"
            ]
          },
          "metadata": {
            "tags": []
          }
        },
        {
          "output_type": "display_data",
          "data": {
            "text/html": [
              "<pre>Finalizing lookup tables.</pre>"
            ],
            "text/plain": [
              "Finalizing lookup tables."
            ]
          },
          "metadata": {
            "tags": []
          }
        },
        {
          "output_type": "display_data",
          "data": {
            "text/html": [
              "<pre>Generating candidate set for working with new users.</pre>"
            ],
            "text/plain": [
              "Generating candidate set for working with new users."
            ]
          },
          "metadata": {
            "tags": []
          }
        },
        {
          "output_type": "display_data",
          "data": {
            "text/html": [
              "<pre>Finished training in 0.077698s</pre>"
            ],
            "text/plain": [
              "Finished training in 0.077698s"
            ]
          },
          "metadata": {
            "tags": []
          }
        },
        {
          "output_type": "stream",
          "text": [
            "Modelo solicitado:pearson\n"
          ],
          "name": "stdout"
        },
        {
          "output_type": "display_data",
          "data": {
            "text/html": [
              "<pre>Warning: Ignoring columns order_id, order_item_id, product_id, customer_id, customer_zip_code_prefix, shipping_limit_date, price, freight_value, total_value, credit_card, debit_card, boleto, voucher, not_defined, num_txn, order_status, order_purchase_timestamp, order_approved_at, order_delivered_carrier_date, order_delivered_customer_date, order_estimated_delivery_date;</pre>"
            ],
            "text/plain": [
              "Warning: Ignoring columns order_id, order_item_id, product_id, customer_id, customer_zip_code_prefix, shipping_limit_date, price, freight_value, total_value, credit_card, debit_card, boleto, voucher, not_defined, num_txn, order_status, order_purchase_timestamp, order_approved_at, order_delivered_carrier_date, order_delivered_customer_date, order_estimated_delivery_date;"
            ]
          },
          "metadata": {
            "tags": []
          }
        },
        {
          "output_type": "display_data",
          "data": {
            "text/html": [
              "<pre>    To use these columns in scoring predictions, use a model that allows the use of additional features.</pre>"
            ],
            "text/plain": [
              "    To use these columns in scoring predictions, use a model that allows the use of additional features."
            ]
          },
          "metadata": {
            "tags": []
          }
        },
        {
          "output_type": "display_data",
          "data": {
            "text/html": [
              "<pre>Preparing data set.</pre>"
            ],
            "text/plain": [
              "Preparing data set."
            ]
          },
          "metadata": {
            "tags": []
          }
        },
        {
          "output_type": "display_data",
          "data": {
            "text/html": [
              "<pre>    Data has 78855 observations with 69445 users and 26898 items.</pre>"
            ],
            "text/plain": [
              "    Data has 78855 observations with 69445 users and 26898 items."
            ]
          },
          "metadata": {
            "tags": []
          }
        },
        {
          "output_type": "display_data",
          "data": {
            "text/html": [
              "<pre>    Data prepared in: 0.167698s</pre>"
            ],
            "text/plain": [
              "    Data prepared in: 0.167698s"
            ]
          },
          "metadata": {
            "tags": []
          }
        },
        {
          "output_type": "display_data",
          "data": {
            "text/html": [
              "<pre>Training model from provided data.</pre>"
            ],
            "text/plain": [
              "Training model from provided data."
            ]
          },
          "metadata": {
            "tags": []
          }
        },
        {
          "output_type": "display_data",
          "data": {
            "text/html": [
              "<pre>Gathering per-item and per-user statistics.</pre>"
            ],
            "text/plain": [
              "Gathering per-item and per-user statistics."
            ]
          },
          "metadata": {
            "tags": []
          }
        },
        {
          "output_type": "display_data",
          "data": {
            "text/html": [
              "<pre>+--------------------------------+------------+</pre>"
            ],
            "text/plain": [
              "+--------------------------------+------------+"
            ]
          },
          "metadata": {
            "tags": []
          }
        },
        {
          "output_type": "display_data",
          "data": {
            "text/html": [
              "<pre>| Elapsed Time (Item Statistics) | % Complete |</pre>"
            ],
            "text/plain": [
              "| Elapsed Time (Item Statistics) | % Complete |"
            ]
          },
          "metadata": {
            "tags": []
          }
        },
        {
          "output_type": "display_data",
          "data": {
            "text/html": [
              "<pre>+--------------------------------+------------+</pre>"
            ],
            "text/plain": [
              "+--------------------------------+------------+"
            ]
          },
          "metadata": {
            "tags": []
          }
        },
        {
          "output_type": "display_data",
          "data": {
            "text/html": [
              "<pre>| 1.039ms                        | 1.25       |</pre>"
            ],
            "text/plain": [
              "| 1.039ms                        | 1.25       |"
            ]
          },
          "metadata": {
            "tags": []
          }
        },
        {
          "output_type": "display_data",
          "data": {
            "text/html": [
              "<pre>| 28.846ms                       | 100        |</pre>"
            ],
            "text/plain": [
              "| 28.846ms                       | 100        |"
            ]
          },
          "metadata": {
            "tags": []
          }
        },
        {
          "output_type": "display_data",
          "data": {
            "text/html": [
              "<pre>+--------------------------------+------------+</pre>"
            ],
            "text/plain": [
              "+--------------------------------+------------+"
            ]
          },
          "metadata": {
            "tags": []
          }
        },
        {
          "output_type": "display_data",
          "data": {
            "text/html": [
              "<pre>Setting up lookup tables.</pre>"
            ],
            "text/plain": [
              "Setting up lookup tables."
            ]
          },
          "metadata": {
            "tags": []
          }
        },
        {
          "output_type": "display_data",
          "data": {
            "text/html": [
              "<pre>Processing data in one pass using dense lookup tables.</pre>"
            ],
            "text/plain": [
              "Processing data in one pass using dense lookup tables."
            ]
          },
          "metadata": {
            "tags": []
          }
        },
        {
          "output_type": "display_data",
          "data": {
            "text/html": [
              "<pre>+-------------------------------------+------------------+-----------------+</pre>"
            ],
            "text/plain": [
              "+-------------------------------------+------------------+-----------------+"
            ]
          },
          "metadata": {
            "tags": []
          }
        },
        {
          "output_type": "display_data",
          "data": {
            "text/html": [
              "<pre>| Elapsed Time (Constructing Lookups) | Total % Complete | Items Processed |</pre>"
            ],
            "text/plain": [
              "| Elapsed Time (Constructing Lookups) | Total % Complete | Items Processed |"
            ]
          },
          "metadata": {
            "tags": []
          }
        },
        {
          "output_type": "display_data",
          "data": {
            "text/html": [
              "<pre>+-------------------------------------+------------------+-----------------+</pre>"
            ],
            "text/plain": [
              "+-------------------------------------+------------------+-----------------+"
            ]
          },
          "metadata": {
            "tags": []
          }
        },
        {
          "output_type": "display_data",
          "data": {
            "text/html": [
              "<pre>| 797.628ms                           | 0                | 0               |</pre>"
            ],
            "text/plain": [
              "| 797.628ms                           | 0                | 0               |"
            ]
          },
          "metadata": {
            "tags": []
          }
        },
        {
          "output_type": "display_data",
          "data": {
            "text/html": [
              "<pre>| 5.14s                               | 100              | 26898           |</pre>"
            ],
            "text/plain": [
              "| 5.14s                               | 100              | 26898           |"
            ]
          },
          "metadata": {
            "tags": []
          }
        },
        {
          "output_type": "display_data",
          "data": {
            "text/html": [
              "<pre>+-------------------------------------+------------------+-----------------+</pre>"
            ],
            "text/plain": [
              "+-------------------------------------+------------------+-----------------+"
            ]
          },
          "metadata": {
            "tags": []
          }
        },
        {
          "output_type": "display_data",
          "data": {
            "text/html": [
              "<pre>Finalizing lookup tables.</pre>"
            ],
            "text/plain": [
              "Finalizing lookup tables."
            ]
          },
          "metadata": {
            "tags": []
          }
        },
        {
          "output_type": "display_data",
          "data": {
            "text/html": [
              "<pre>Generating candidate set for working with new users.</pre>"
            ],
            "text/plain": [
              "Generating candidate set for working with new users."
            ]
          },
          "metadata": {
            "tags": []
          }
        },
        {
          "output_type": "display_data",
          "data": {
            "text/html": [
              "<pre>Finished training in 5.16263s</pre>"
            ],
            "text/plain": [
              "Finished training in 5.16263s"
            ]
          },
          "metadata": {
            "tags": []
          }
        }
      ]
    },
    {
      "cell_type": "code",
      "metadata": {
        "colab_type": "code",
        "id": "JtGtNTB8aU1U",
        "outputId": "82937372-b2db-4428-c69c-ec8ec63a4ac9",
        "colab": {
          "base_uri": "https://localhost:8080/",
          "height": 714
        }
      },
      "source": [
        "print(\"=============================================\")  \n",
        "print(\"          CORRELACION PEARSON \")\n",
        "print(\"============================================\")  \n",
        "# Se generan las recomendaciones para un Cliente\n",
        "print(\"=============================================\")  \n",
        "print(\"Metodo: Colaborativo - DS Normalizado\")\n",
        "print(\"=============================================\") \n",
        "fac_pearson.recommend(users=list(['48821','66843']), k=5).print_rows(10)\n",
        "\n",
        "print(\"============================================\")  \n",
        "print(\"Metodo: Colaborativo - DS Referencia\")\n",
        "print(\"============================================\") \n",
        "dum_pearson.recommend(users=list(['48821','66843']), k=5).print_rows(10) "
      ],
      "execution_count": 43,
      "outputs": [
        {
          "output_type": "stream",
          "text": [
            "=============================================\n",
            "          CORRELACION PEARSON \n",
            "============================================\n",
            "=============================================\n",
            "Metodo: Colaborativo - DS Normalizado\n",
            "=============================================\n",
            "+------------+-------------+-------+------+\n",
            "| ID_CLIENTE | ID_PRODUCTO | score | rank |\n",
            "+------------+-------------+-------+------+\n",
            "|   48821    |    11665    |  1.0  |  1   |\n",
            "|   48821    |     129     |  1.0  |  2   |\n",
            "|   48821    |    12214    |  1.0  |  3   |\n",
            "|   48821    |     8898    |  1.0  |  4   |\n",
            "|   48821    |    23665    |  1.0  |  5   |\n",
            "|   66843    |    11665    |  1.0  |  1   |\n",
            "|   66843    |     129     |  1.0  |  2   |\n",
            "|   66843    |    12214    |  1.0  |  3   |\n",
            "|   66843    |     8898    |  1.0  |  4   |\n",
            "|   66843    |    23665    |  1.0  |  5   |\n",
            "+------------+-------------+-------+------+\n",
            "[10 rows x 4 columns]\n",
            "\n",
            "============================================\n",
            "Metodo: Colaborativo - DS Referencia\n",
            "============================================\n",
            "+------------+-------------+-------+------+\n",
            "| ID_CLIENTE | ID_PRODUCTO | score | rank |\n",
            "+------------+-------------+-------+------+\n",
            "|   48821    |     3222    |  0.0  |  1   |\n",
            "|   48821    |    14119    |  0.0  |  2   |\n",
            "|   48821    |    20754    |  0.0  |  3   |\n",
            "|   48821    |    15951    |  0.0  |  4   |\n",
            "|   48821    |    23169    |  0.0  |  5   |\n",
            "|   66843    |     3222    |  0.0  |  1   |\n",
            "|   66843    |    14119    |  0.0  |  2   |\n",
            "|   66843    |    20754    |  0.0  |  3   |\n",
            "|   66843    |    15951    |  0.0  |  4   |\n",
            "|   66843    |    23169    |  0.0  |  5   |\n",
            "+------------+-------------+-------+------+\n",
            "[10 rows x 4 columns]\n",
            "\n"
          ],
          "name": "stdout"
        }
      ]
    },
    {
      "cell_type": "markdown",
      "metadata": {
        "colab_type": "text",
        "id": "rt1oYyEtGEn3"
      },
      "source": [
        "### 1.5 Evaluación de Modelos \n",
        "Con el fin de establecer cual es el mejor modelo entre los tres probados, se realiza una validación de estos de forma conjunta "
      ]
    },
    {
      "cell_type": "code",
      "metadata": {
        "colab_type": "code",
        "id": "tIVMOHxIa19d",
        "outputId": "011533b0-2260-4b48-f696-128c5075b95f",
        "colab": {
          "base_uri": "https://localhost:8080/",
          "height": 1000
        }
      },
      "source": [
        "evaluacion_modelos('normalizado',test_data)"
      ],
      "execution_count": 44,
      "outputs": [
        {
          "output_type": "stream",
          "text": [
            "PROGRESS: Evaluate model Modelo basado en contenido\n"
          ],
          "name": "stdout"
        },
        {
          "output_type": "display_data",
          "data": {
            "text/html": [
              "<pre>recommendations finished on 1000/4052 queries. users per second: 50900.9</pre>"
            ],
            "text/plain": [
              "recommendations finished on 1000/4052 queries. users per second: 50900.9"
            ]
          },
          "metadata": {
            "tags": []
          }
        },
        {
          "output_type": "display_data",
          "data": {
            "text/html": [
              "<pre>recommendations finished on 2000/4052 queries. users per second: 51439</pre>"
            ],
            "text/plain": [
              "recommendations finished on 2000/4052 queries. users per second: 51439"
            ]
          },
          "metadata": {
            "tags": []
          }
        },
        {
          "output_type": "display_data",
          "data": {
            "text/html": [
              "<pre>recommendations finished on 3000/4052 queries. users per second: 52342.3</pre>"
            ],
            "text/plain": [
              "recommendations finished on 3000/4052 queries. users per second: 52342.3"
            ]
          },
          "metadata": {
            "tags": []
          }
        },
        {
          "output_type": "display_data",
          "data": {
            "text/html": [
              "<pre>recommendations finished on 4000/4052 queries. users per second: 51490</pre>"
            ],
            "text/plain": [
              "recommendations finished on 4000/4052 queries. users per second: 51490"
            ]
          },
          "metadata": {
            "tags": []
          }
        },
        {
          "output_type": "stream",
          "text": [
            "\n",
            "Precision and recall summary statistics by cutoff\n",
            "+--------+------------------------+-----------------------+\n",
            "| cutoff |     mean_precision     |      mean_recall      |\n",
            "+--------+------------------------+-----------------------+\n",
            "|   1    |  0.000246791707798618  |  0.000246791707798618 |\n",
            "|   2    | 0.00024679170779861773 | 0.0004935834155972355 |\n",
            "|   3    | 0.0002467917077986179  | 0.0007403751233958541 |\n",
            "|   4    |  0.000246791707798618  |  0.000987166831194472 |\n",
            "|   5    | 0.0003948667324777888  | 0.0019743336623889423 |\n",
            "|   6    | 0.0003701875616979269  | 0.0022211253701875603 |\n",
            "|   7    | 0.0003525595825694542  | 0.0024679170779861783 |\n",
            "|   8    | 0.0003393385982230996  | 0.0027147087857847967 |\n",
            "|   9    | 0.0003290556103981574  |  0.002961500493583417 |\n",
            "|   10   | 0.00032082922013820325 |  0.003208292201382035 |\n",
            "+--------+------------------------+-----------------------+\n",
            "[10 rows x 3 columns]\n",
            "\n",
            "\n",
            "Overall RMSE: 0.5937655974725885\n",
            "\n",
            "Per User RMSE (best)\n",
            "+------------+------+-------+\n",
            "| ID_CLIENTE | rmse | count |\n",
            "+------------+------+-------+\n",
            "|   21720    | 0.0  |   1   |\n",
            "+------------+------+-------+\n",
            "[1 rows x 3 columns]\n",
            "\n",
            "\n",
            "Per User RMSE (worst)\n",
            "+------------+------+-------+\n",
            "| ID_CLIENTE | rmse | count |\n",
            "+------------+------+-------+\n",
            "|   71776    | 1.0  |   1   |\n",
            "+------------+------+-------+\n",
            "[1 rows x 3 columns]\n",
            "\n",
            "\n",
            "Per Item RMSE (best)\n",
            "+-------------+-----------------------+-------+\n",
            "| ID_PRODUCTO |          rmse         | count |\n",
            "+-------------+-----------------------+-------+\n",
            "|    12000    | 0.0005417118093173912 |   1   |\n",
            "+-------------+-----------------------+-------+\n",
            "[1 rows x 3 columns]\n",
            "\n",
            "\n",
            "Per Item RMSE (worst)\n",
            "+-------------+------+-------+\n",
            "| ID_PRODUCTO | rmse | count |\n",
            "+-------------+------+-------+\n",
            "|    18653    | 1.0  |   1   |\n",
            "+-------------+------+-------+\n",
            "[1 rows x 3 columns]\n",
            "\n",
            "PROGRESS: Evaluate model Modelo Colaborativo - Distancia Coseno\n"
          ],
          "name": "stdout"
        },
        {
          "output_type": "stream",
          "text": [
            "/usr/local/lib/python3.6/dist-packages/turicreate/aggregate.py:92: UserWarning: Passing parameter(s) to COUNT is deprecated. This functionality will be removed in the next major release. Any passed parameters are ignored.\n",
            "  + 'the next major release. Any passed parameters are ignored.')\n"
          ],
          "name": "stderr"
        },
        {
          "output_type": "display_data",
          "data": {
            "text/html": [
              "<pre>recommendations finished on 1000/4052 queries. users per second: 45664.2</pre>"
            ],
            "text/plain": [
              "recommendations finished on 1000/4052 queries. users per second: 45664.2"
            ]
          },
          "metadata": {
            "tags": []
          }
        },
        {
          "output_type": "display_data",
          "data": {
            "text/html": [
              "<pre>recommendations finished on 2000/4052 queries. users per second: 43662.4</pre>"
            ],
            "text/plain": [
              "recommendations finished on 2000/4052 queries. users per second: 43662.4"
            ]
          },
          "metadata": {
            "tags": []
          }
        },
        {
          "output_type": "display_data",
          "data": {
            "text/html": [
              "<pre>recommendations finished on 3000/4052 queries. users per second: 44530.9</pre>"
            ],
            "text/plain": [
              "recommendations finished on 3000/4052 queries. users per second: 44530.9"
            ]
          },
          "metadata": {
            "tags": []
          }
        },
        {
          "output_type": "display_data",
          "data": {
            "text/html": [
              "<pre>recommendations finished on 4000/4052 queries. users per second: 42736.9</pre>"
            ],
            "text/plain": [
              "recommendations finished on 4000/4052 queries. users per second: 42736.9"
            ]
          },
          "metadata": {
            "tags": []
          }
        },
        {
          "output_type": "stream",
          "text": [
            "\n",
            "Precision and recall summary statistics by cutoff\n",
            "+--------+-----------------------+-----------------------+\n",
            "| cutoff |     mean_precision    |      mean_recall      |\n",
            "+--------+-----------------------+-----------------------+\n",
            "|   1    |  0.002714708785784798 | 0.0024679170779861796 |\n",
            "|   2    |  0.002221125370187561 |  0.004072063178677204 |\n",
            "|   3    | 0.0018920697597894043 |  0.005306021717670289 |\n",
            "|   4    | 0.0015424481737413625 |  0.005799605133267526 |\n",
            "|   5    | 0.0013326752221125364 |  0.006293188548864759 |\n",
            "|   6    | 0.0011105626850937817 |  0.006293188548864757 |\n",
            "|   7    | 0.0009871668311944722 | 0.0065399802566633745 |\n",
            "|   8    | 0.0009254689042448171 |  0.007033563672260611 |\n",
            "|   9    | 0.0009049029285949342 |  0.007773938795656463 |\n",
            "|   10   | 0.0009131293188548869 |  0.008761105626850944 |\n",
            "+--------+-----------------------+-----------------------+\n",
            "[10 rows x 3 columns]\n",
            "\n",
            "\n",
            "Overall RMSE: 0.5726018717290804\n",
            "\n",
            "Per User RMSE (best)\n",
            "+------------+------+-------+\n",
            "| ID_CLIENTE | rmse | count |\n",
            "+------------+------+-------+\n",
            "|   10571    | 0.0  |   1   |\n",
            "+------------+------+-------+\n",
            "[1 rows x 3 columns]\n",
            "\n",
            "\n",
            "Per User RMSE (worst)\n",
            "+------------+------+-------+\n",
            "| ID_CLIENTE | rmse | count |\n",
            "+------------+------+-------+\n",
            "|   42929    | 1.0  |   1   |\n",
            "+------------+------+-------+\n",
            "[1 rows x 3 columns]\n",
            "\n",
            "\n",
            "Per Item RMSE (best)\n",
            "+-------------+------+-------+\n",
            "| ID_PRODUCTO | rmse | count |\n",
            "+-------------+------+-------+\n",
            "|    20653    | 0.0  |   1   |\n",
            "+-------------+------+-------+\n",
            "[1 rows x 3 columns]\n",
            "\n",
            "\n",
            "Per Item RMSE (worst)\n",
            "+-------------+------+-------+\n",
            "| ID_PRODUCTO | rmse | count |\n",
            "+-------------+------+-------+\n",
            "|    16797    | 1.0  |   1   |\n",
            "+-------------+------+-------+\n",
            "[1 rows x 3 columns]\n",
            "\n",
            "PROGRESS: Evaluate model Modelo Colaborativo - Pearson\n"
          ],
          "name": "stdout"
        },
        {
          "output_type": "display_data",
          "data": {
            "text/html": [
              "<pre>recommendations finished on 1000/4052 queries. users per second: 43523.7</pre>"
            ],
            "text/plain": [
              "recommendations finished on 1000/4052 queries. users per second: 43523.7"
            ]
          },
          "metadata": {
            "tags": []
          }
        },
        {
          "output_type": "display_data",
          "data": {
            "text/html": [
              "<pre>recommendations finished on 2000/4052 queries. users per second: 41289</pre>"
            ],
            "text/plain": [
              "recommendations finished on 2000/4052 queries. users per second: 41289"
            ]
          },
          "metadata": {
            "tags": []
          }
        },
        {
          "output_type": "display_data",
          "data": {
            "text/html": [
              "<pre>recommendations finished on 3000/4052 queries. users per second: 41394.7</pre>"
            ],
            "text/plain": [
              "recommendations finished on 3000/4052 queries. users per second: 41394.7"
            ]
          },
          "metadata": {
            "tags": []
          }
        },
        {
          "output_type": "display_data",
          "data": {
            "text/html": [
              "<pre>recommendations finished on 4000/4052 queries. users per second: 42019.5</pre>"
            ],
            "text/plain": [
              "recommendations finished on 4000/4052 queries. users per second: 42019.5"
            ]
          },
          "metadata": {
            "tags": []
          }
        },
        {
          "output_type": "stream",
          "text": [
            "\n",
            "Precision and recall summary statistics by cutoff\n",
            "+--------+------------------------+-----------------------+\n",
            "| cutoff |     mean_precision     |      mean_recall      |\n",
            "+--------+------------------------+-----------------------+\n",
            "|   1    |  0.000246791707798618  |  0.000246791707798618 |\n",
            "|   2    |  0.000246791707798618  |  0.000493583415597236 |\n",
            "|   3    | 0.00024679170779861784 | 0.0007403751233958537 |\n",
            "|   4    | 0.00024679170779861784 | 0.0009871668311944714 |\n",
            "|   5    | 0.0003948667324777886  | 0.0019743336623889436 |\n",
            "|   6    | 0.00037018756169792695 |  0.002221125370187562 |\n",
            "|   7    | 0.00035255958256945417 |  0.002467917077986179 |\n",
            "|   8    | 0.0003393385982230996  | 0.0027147087857847967 |\n",
            "|   9    | 0.00032905561039815745 |  0.002961500493583417 |\n",
            "|   10   | 0.0003208292201382036  |  0.003208292201382035 |\n",
            "+--------+------------------------+-----------------------+\n",
            "[10 rows x 3 columns]\n",
            "\n",
            "\n",
            "Overall RMSE: 0.6096848284923493\n",
            "\n",
            "Per User RMSE (best)\n",
            "+------------+------+-------+\n",
            "| ID_CLIENTE | rmse | count |\n",
            "+------------+------+-------+\n",
            "|   10571    | 0.0  |   1   |\n",
            "+------------+------+-------+\n",
            "[1 rows x 3 columns]\n",
            "\n",
            "\n",
            "Per User RMSE (worst)\n",
            "+------------+------+-------+\n",
            "| ID_CLIENTE | rmse | count |\n",
            "+------------+------+-------+\n",
            "|    6375    | 1.0  |   1   |\n",
            "+------------+------+-------+\n",
            "[1 rows x 3 columns]\n",
            "\n",
            "\n",
            "Per Item RMSE (best)\n",
            "+-------------+-----------------------+-------+\n",
            "| ID_PRODUCTO |          rmse         | count |\n",
            "+-------------+-----------------------+-------+\n",
            "|    12000    | 0.0005417118093173912 |   1   |\n",
            "+-------------+-----------------------+-------+\n",
            "[1 rows x 3 columns]\n",
            "\n",
            "\n",
            "Per Item RMSE (worst)\n",
            "+-------------+------+-------+\n",
            "| ID_PRODUCTO | rmse | count |\n",
            "+-------------+------+-------+\n",
            "|    18653    | 1.0  |   1   |\n",
            "+-------------+------+-------+\n",
            "[1 rows x 3 columns]\n",
            "\n"
          ],
          "name": "stdout"
        }
      ]
    },
    {
      "cell_type": "code",
      "metadata": {
        "colab_type": "code",
        "id": "jbarhzLxexiC",
        "outputId": "7cfb93a3-9a00-48f4-d1c5-0f2b8db5a14c",
        "colab": {
          "base_uri": "https://localhost:8080/",
          "height": 1000
        }
      },
      "source": [
        "evaluacion_modelos('dummy',test_data_dummy)  "
      ],
      "execution_count": 45,
      "outputs": [
        {
          "output_type": "stream",
          "text": [
            "PROGRESS: Evaluate model Modelo Dummy basado en contenido\n"
          ],
          "name": "stdout"
        },
        {
          "output_type": "display_data",
          "data": {
            "text/html": [
              "<pre>recommendations finished on 1000/31733 queries. users per second: 10232.6</pre>"
            ],
            "text/plain": [
              "recommendations finished on 1000/31733 queries. users per second: 10232.6"
            ]
          },
          "metadata": {
            "tags": []
          }
        },
        {
          "output_type": "display_data",
          "data": {
            "text/html": [
              "<pre>recommendations finished on 2000/31733 queries. users per second: 10237.6</pre>"
            ],
            "text/plain": [
              "recommendations finished on 2000/31733 queries. users per second: 10237.6"
            ]
          },
          "metadata": {
            "tags": []
          }
        },
        {
          "output_type": "display_data",
          "data": {
            "text/html": [
              "<pre>recommendations finished on 3000/31733 queries. users per second: 10257.8</pre>"
            ],
            "text/plain": [
              "recommendations finished on 3000/31733 queries. users per second: 10257.8"
            ]
          },
          "metadata": {
            "tags": []
          }
        },
        {
          "output_type": "display_data",
          "data": {
            "text/html": [
              "<pre>recommendations finished on 4000/31733 queries. users per second: 10322.4</pre>"
            ],
            "text/plain": [
              "recommendations finished on 4000/31733 queries. users per second: 10322.4"
            ]
          },
          "metadata": {
            "tags": []
          }
        },
        {
          "output_type": "display_data",
          "data": {
            "text/html": [
              "<pre>recommendations finished on 5000/31733 queries. users per second: 10341</pre>"
            ],
            "text/plain": [
              "recommendations finished on 5000/31733 queries. users per second: 10341"
            ]
          },
          "metadata": {
            "tags": []
          }
        },
        {
          "output_type": "display_data",
          "data": {
            "text/html": [
              "<pre>recommendations finished on 6000/31733 queries. users per second: 10341.8</pre>"
            ],
            "text/plain": [
              "recommendations finished on 6000/31733 queries. users per second: 10341.8"
            ]
          },
          "metadata": {
            "tags": []
          }
        },
        {
          "output_type": "display_data",
          "data": {
            "text/html": [
              "<pre>recommendations finished on 7000/31733 queries. users per second: 10342.3</pre>"
            ],
            "text/plain": [
              "recommendations finished on 7000/31733 queries. users per second: 10342.3"
            ]
          },
          "metadata": {
            "tags": []
          }
        },
        {
          "output_type": "display_data",
          "data": {
            "text/html": [
              "<pre>recommendations finished on 8000/31733 queries. users per second: 10334.3</pre>"
            ],
            "text/plain": [
              "recommendations finished on 8000/31733 queries. users per second: 10334.3"
            ]
          },
          "metadata": {
            "tags": []
          }
        },
        {
          "output_type": "display_data",
          "data": {
            "text/html": [
              "<pre>recommendations finished on 9000/31733 queries. users per second: 10334.2</pre>"
            ],
            "text/plain": [
              "recommendations finished on 9000/31733 queries. users per second: 10334.2"
            ]
          },
          "metadata": {
            "tags": []
          }
        },
        {
          "output_type": "display_data",
          "data": {
            "text/html": [
              "<pre>recommendations finished on 10000/31733 queries. users per second: 10340.2</pre>"
            ],
            "text/plain": [
              "recommendations finished on 10000/31733 queries. users per second: 10340.2"
            ]
          },
          "metadata": {
            "tags": []
          }
        },
        {
          "output_type": "display_data",
          "data": {
            "text/html": [
              "<pre>recommendations finished on 11000/31733 queries. users per second: 10358.8</pre>"
            ],
            "text/plain": [
              "recommendations finished on 11000/31733 queries. users per second: 10358.8"
            ]
          },
          "metadata": {
            "tags": []
          }
        },
        {
          "output_type": "display_data",
          "data": {
            "text/html": [
              "<pre>recommendations finished on 12000/31733 queries. users per second: 10313.5</pre>"
            ],
            "text/plain": [
              "recommendations finished on 12000/31733 queries. users per second: 10313.5"
            ]
          },
          "metadata": {
            "tags": []
          }
        },
        {
          "output_type": "display_data",
          "data": {
            "text/html": [
              "<pre>recommendations finished on 13000/31733 queries. users per second: 10322.4</pre>"
            ],
            "text/plain": [
              "recommendations finished on 13000/31733 queries. users per second: 10322.4"
            ]
          },
          "metadata": {
            "tags": []
          }
        },
        {
          "output_type": "display_data",
          "data": {
            "text/html": [
              "<pre>recommendations finished on 14000/31733 queries. users per second: 10331.2</pre>"
            ],
            "text/plain": [
              "recommendations finished on 14000/31733 queries. users per second: 10331.2"
            ]
          },
          "metadata": {
            "tags": []
          }
        },
        {
          "output_type": "display_data",
          "data": {
            "text/html": [
              "<pre>recommendations finished on 15000/31733 queries. users per second: 10336.5</pre>"
            ],
            "text/plain": [
              "recommendations finished on 15000/31733 queries. users per second: 10336.5"
            ]
          },
          "metadata": {
            "tags": []
          }
        },
        {
          "output_type": "display_data",
          "data": {
            "text/html": [
              "<pre>recommendations finished on 16000/31733 queries. users per second: 10350.6</pre>"
            ],
            "text/plain": [
              "recommendations finished on 16000/31733 queries. users per second: 10350.6"
            ]
          },
          "metadata": {
            "tags": []
          }
        },
        {
          "output_type": "display_data",
          "data": {
            "text/html": [
              "<pre>recommendations finished on 17000/31733 queries. users per second: 10348.4</pre>"
            ],
            "text/plain": [
              "recommendations finished on 17000/31733 queries. users per second: 10348.4"
            ]
          },
          "metadata": {
            "tags": []
          }
        },
        {
          "output_type": "display_data",
          "data": {
            "text/html": [
              "<pre>recommendations finished on 18000/31733 queries. users per second: 10362.8</pre>"
            ],
            "text/plain": [
              "recommendations finished on 18000/31733 queries. users per second: 10362.8"
            ]
          },
          "metadata": {
            "tags": []
          }
        },
        {
          "output_type": "display_data",
          "data": {
            "text/html": [
              "<pre>recommendations finished on 19000/31733 queries. users per second: 10356.2</pre>"
            ],
            "text/plain": [
              "recommendations finished on 19000/31733 queries. users per second: 10356.2"
            ]
          },
          "metadata": {
            "tags": []
          }
        },
        {
          "output_type": "display_data",
          "data": {
            "text/html": [
              "<pre>recommendations finished on 20000/31733 queries. users per second: 10360</pre>"
            ],
            "text/plain": [
              "recommendations finished on 20000/31733 queries. users per second: 10360"
            ]
          },
          "metadata": {
            "tags": []
          }
        },
        {
          "output_type": "display_data",
          "data": {
            "text/html": [
              "<pre>recommendations finished on 21000/31733 queries. users per second: 10357.2</pre>"
            ],
            "text/plain": [
              "recommendations finished on 21000/31733 queries. users per second: 10357.2"
            ]
          },
          "metadata": {
            "tags": []
          }
        },
        {
          "output_type": "display_data",
          "data": {
            "text/html": [
              "<pre>recommendations finished on 22000/31733 queries. users per second: 10368.9</pre>"
            ],
            "text/plain": [
              "recommendations finished on 22000/31733 queries. users per second: 10368.9"
            ]
          },
          "metadata": {
            "tags": []
          }
        },
        {
          "output_type": "display_data",
          "data": {
            "text/html": [
              "<pre>recommendations finished on 23000/31733 queries. users per second: 10239.3</pre>"
            ],
            "text/plain": [
              "recommendations finished on 23000/31733 queries. users per second: 10239.3"
            ]
          },
          "metadata": {
            "tags": []
          }
        },
        {
          "output_type": "display_data",
          "data": {
            "text/html": [
              "<pre>recommendations finished on 24000/31733 queries. users per second: 10170.3</pre>"
            ],
            "text/plain": [
              "recommendations finished on 24000/31733 queries. users per second: 10170.3"
            ]
          },
          "metadata": {
            "tags": []
          }
        },
        {
          "output_type": "display_data",
          "data": {
            "text/html": [
              "<pre>recommendations finished on 25000/31733 queries. users per second: 10175.9</pre>"
            ],
            "text/plain": [
              "recommendations finished on 25000/31733 queries. users per second: 10175.9"
            ]
          },
          "metadata": {
            "tags": []
          }
        },
        {
          "output_type": "display_data",
          "data": {
            "text/html": [
              "<pre>recommendations finished on 26000/31733 queries. users per second: 10187.9</pre>"
            ],
            "text/plain": [
              "recommendations finished on 26000/31733 queries. users per second: 10187.9"
            ]
          },
          "metadata": {
            "tags": []
          }
        },
        {
          "output_type": "display_data",
          "data": {
            "text/html": [
              "<pre>recommendations finished on 27000/31733 queries. users per second: 10196.1</pre>"
            ],
            "text/plain": [
              "recommendations finished on 27000/31733 queries. users per second: 10196.1"
            ]
          },
          "metadata": {
            "tags": []
          }
        },
        {
          "output_type": "display_data",
          "data": {
            "text/html": [
              "<pre>recommendations finished on 28000/31733 queries. users per second: 10205.4</pre>"
            ],
            "text/plain": [
              "recommendations finished on 28000/31733 queries. users per second: 10205.4"
            ]
          },
          "metadata": {
            "tags": []
          }
        },
        {
          "output_type": "display_data",
          "data": {
            "text/html": [
              "<pre>recommendations finished on 29000/31733 queries. users per second: 10218.7</pre>"
            ],
            "text/plain": [
              "recommendations finished on 29000/31733 queries. users per second: 10218.7"
            ]
          },
          "metadata": {
            "tags": []
          }
        },
        {
          "output_type": "display_data",
          "data": {
            "text/html": [
              "<pre>recommendations finished on 30000/31733 queries. users per second: 10221.7</pre>"
            ],
            "text/plain": [
              "recommendations finished on 30000/31733 queries. users per second: 10221.7"
            ]
          },
          "metadata": {
            "tags": []
          }
        },
        {
          "output_type": "display_data",
          "data": {
            "text/html": [
              "<pre>recommendations finished on 31000/31733 queries. users per second: 10214.2</pre>"
            ],
            "text/plain": [
              "recommendations finished on 31000/31733 queries. users per second: 10214.2"
            ]
          },
          "metadata": {
            "tags": []
          }
        },
        {
          "output_type": "stream",
          "text": [
            "/usr/local/lib/python3.6/dist-packages/turicreate/aggregate.py:92: UserWarning: Passing parameter(s) to COUNT is deprecated. This functionality will be removed in the next major release. Any passed parameters are ignored.\n",
            "  + 'the next major release. Any passed parameters are ignored.')\n"
          ],
          "name": "stderr"
        },
        {
          "output_type": "stream",
          "text": [
            "\n",
            "Precision and recall summary statistics by cutoff\n",
            "+--------+------------------------+-----------------------+\n",
            "| cutoff |     mean_precision     |      mean_recall      |\n",
            "+--------+------------------------+-----------------------+\n",
            "|   1    |          0.0           |          0.0          |\n",
            "|   2    |          0.0           |          0.0          |\n",
            "|   3    |          0.0           |          0.0          |\n",
            "|   4    |          0.0           |          0.0          |\n",
            "|   5    |          0.0           |          0.0          |\n",
            "|   6    |          0.0           |          0.0          |\n",
            "|   7    |          0.0           |          0.0          |\n",
            "|   8    |          0.0           |          0.0          |\n",
            "|   9    | 1.0504312020084281e-05 | 9.453880818075818e-05 |\n",
            "|   10   | 9.453880818075833e-06  | 9.453880818075803e-05 |\n",
            "+--------+------------------------+-----------------------+\n",
            "[10 rows x 3 columns]\n",
            "\n",
            "\n",
            "Overall RMSE: 0.0\n",
            "\n",
            "Per User RMSE (best)\n",
            "+------------+------+-------+\n",
            "| ID_CLIENTE | rmse | count |\n",
            "+------------+------+-------+\n",
            "|   47768    | 0.0  |   1   |\n",
            "+------------+------+-------+\n",
            "[1 rows x 3 columns]\n",
            "\n",
            "\n",
            "Per User RMSE (worst)\n",
            "+------------+------+-------+\n",
            "| ID_CLIENTE | rmse | count |\n",
            "+------------+------+-------+\n",
            "|   31998    | 0.0  |   1   |\n",
            "+------------+------+-------+\n",
            "[1 rows x 3 columns]\n",
            "\n",
            "\n",
            "Per Item RMSE (best)\n",
            "+-------------+------+-------+\n",
            "| ID_PRODUCTO | rmse | count |\n",
            "+-------------+------+-------+\n",
            "|     3155    | 0.0  |   1   |\n",
            "+-------------+------+-------+\n",
            "[1 rows x 3 columns]\n",
            "\n",
            "\n",
            "Per Item RMSE (worst)\n",
            "+-------------+------+-------+\n",
            "| ID_PRODUCTO | rmse | count |\n",
            "+-------------+------+-------+\n",
            "|    18653    | 0.0  |   3   |\n",
            "+-------------+------+-------+\n",
            "[1 rows x 3 columns]\n",
            "\n",
            "PROGRESS: Evaluate model Modelo Dummy Colaborativo - Distancia Coseno\n"
          ],
          "name": "stdout"
        },
        {
          "output_type": "display_data",
          "data": {
            "text/html": [
              "<pre>recommendations finished on 1000/31733 queries. users per second: 7680.02</pre>"
            ],
            "text/plain": [
              "recommendations finished on 1000/31733 queries. users per second: 7680.02"
            ]
          },
          "metadata": {
            "tags": []
          }
        },
        {
          "output_type": "display_data",
          "data": {
            "text/html": [
              "<pre>recommendations finished on 2000/31733 queries. users per second: 7789.71</pre>"
            ],
            "text/plain": [
              "recommendations finished on 2000/31733 queries. users per second: 7789.71"
            ]
          },
          "metadata": {
            "tags": []
          }
        },
        {
          "output_type": "display_data",
          "data": {
            "text/html": [
              "<pre>recommendations finished on 3000/31733 queries. users per second: 7779.26</pre>"
            ],
            "text/plain": [
              "recommendations finished on 3000/31733 queries. users per second: 7779.26"
            ]
          },
          "metadata": {
            "tags": []
          }
        },
        {
          "output_type": "display_data",
          "data": {
            "text/html": [
              "<pre>recommendations finished on 4000/31733 queries. users per second: 7809.17</pre>"
            ],
            "text/plain": [
              "recommendations finished on 4000/31733 queries. users per second: 7809.17"
            ]
          },
          "metadata": {
            "tags": []
          }
        },
        {
          "output_type": "display_data",
          "data": {
            "text/html": [
              "<pre>recommendations finished on 5000/31733 queries. users per second: 7820.56</pre>"
            ],
            "text/plain": [
              "recommendations finished on 5000/31733 queries. users per second: 7820.56"
            ]
          },
          "metadata": {
            "tags": []
          }
        },
        {
          "output_type": "display_data",
          "data": {
            "text/html": [
              "<pre>recommendations finished on 6000/31733 queries. users per second: 7811.11</pre>"
            ],
            "text/plain": [
              "recommendations finished on 6000/31733 queries. users per second: 7811.11"
            ]
          },
          "metadata": {
            "tags": []
          }
        },
        {
          "output_type": "display_data",
          "data": {
            "text/html": [
              "<pre>recommendations finished on 7000/31733 queries. users per second: 7833.18</pre>"
            ],
            "text/plain": [
              "recommendations finished on 7000/31733 queries. users per second: 7833.18"
            ]
          },
          "metadata": {
            "tags": []
          }
        },
        {
          "output_type": "display_data",
          "data": {
            "text/html": [
              "<pre>recommendations finished on 8000/31733 queries. users per second: 7807.64</pre>"
            ],
            "text/plain": [
              "recommendations finished on 8000/31733 queries. users per second: 7807.64"
            ]
          },
          "metadata": {
            "tags": []
          }
        },
        {
          "output_type": "display_data",
          "data": {
            "text/html": [
              "<pre>recommendations finished on 9000/31733 queries. users per second: 7797.64</pre>"
            ],
            "text/plain": [
              "recommendations finished on 9000/31733 queries. users per second: 7797.64"
            ]
          },
          "metadata": {
            "tags": []
          }
        },
        {
          "output_type": "display_data",
          "data": {
            "text/html": [
              "<pre>recommendations finished on 10000/31733 queries. users per second: 7823.7</pre>"
            ],
            "text/plain": [
              "recommendations finished on 10000/31733 queries. users per second: 7823.7"
            ]
          },
          "metadata": {
            "tags": []
          }
        },
        {
          "output_type": "display_data",
          "data": {
            "text/html": [
              "<pre>recommendations finished on 11000/31733 queries. users per second: 7827.75</pre>"
            ],
            "text/plain": [
              "recommendations finished on 11000/31733 queries. users per second: 7827.75"
            ]
          },
          "metadata": {
            "tags": []
          }
        },
        {
          "output_type": "display_data",
          "data": {
            "text/html": [
              "<pre>recommendations finished on 12000/31733 queries. users per second: 7807.56</pre>"
            ],
            "text/plain": [
              "recommendations finished on 12000/31733 queries. users per second: 7807.56"
            ]
          },
          "metadata": {
            "tags": []
          }
        },
        {
          "output_type": "display_data",
          "data": {
            "text/html": [
              "<pre>recommendations finished on 13000/31733 queries. users per second: 7803.41</pre>"
            ],
            "text/plain": [
              "recommendations finished on 13000/31733 queries. users per second: 7803.41"
            ]
          },
          "metadata": {
            "tags": []
          }
        },
        {
          "output_type": "display_data",
          "data": {
            "text/html": [
              "<pre>recommendations finished on 14000/31733 queries. users per second: 7816.4</pre>"
            ],
            "text/plain": [
              "recommendations finished on 14000/31733 queries. users per second: 7816.4"
            ]
          },
          "metadata": {
            "tags": []
          }
        },
        {
          "output_type": "display_data",
          "data": {
            "text/html": [
              "<pre>recommendations finished on 15000/31733 queries. users per second: 7817.12</pre>"
            ],
            "text/plain": [
              "recommendations finished on 15000/31733 queries. users per second: 7817.12"
            ]
          },
          "metadata": {
            "tags": []
          }
        },
        {
          "output_type": "display_data",
          "data": {
            "text/html": [
              "<pre>recommendations finished on 16000/31733 queries. users per second: 7818.67</pre>"
            ],
            "text/plain": [
              "recommendations finished on 16000/31733 queries. users per second: 7818.67"
            ]
          },
          "metadata": {
            "tags": []
          }
        },
        {
          "output_type": "display_data",
          "data": {
            "text/html": [
              "<pre>recommendations finished on 17000/31733 queries. users per second: 7819.58</pre>"
            ],
            "text/plain": [
              "recommendations finished on 17000/31733 queries. users per second: 7819.58"
            ]
          },
          "metadata": {
            "tags": []
          }
        },
        {
          "output_type": "display_data",
          "data": {
            "text/html": [
              "<pre>recommendations finished on 18000/31733 queries. users per second: 7828.55</pre>"
            ],
            "text/plain": [
              "recommendations finished on 18000/31733 queries. users per second: 7828.55"
            ]
          },
          "metadata": {
            "tags": []
          }
        },
        {
          "output_type": "display_data",
          "data": {
            "text/html": [
              "<pre>recommendations finished on 19000/31733 queries. users per second: 7834.13</pre>"
            ],
            "text/plain": [
              "recommendations finished on 19000/31733 queries. users per second: 7834.13"
            ]
          },
          "metadata": {
            "tags": []
          }
        },
        {
          "output_type": "display_data",
          "data": {
            "text/html": [
              "<pre>recommendations finished on 20000/31733 queries. users per second: 7835.75</pre>"
            ],
            "text/plain": [
              "recommendations finished on 20000/31733 queries. users per second: 7835.75"
            ]
          },
          "metadata": {
            "tags": []
          }
        },
        {
          "output_type": "display_data",
          "data": {
            "text/html": [
              "<pre>recommendations finished on 21000/31733 queries. users per second: 7840.3</pre>"
            ],
            "text/plain": [
              "recommendations finished on 21000/31733 queries. users per second: 7840.3"
            ]
          },
          "metadata": {
            "tags": []
          }
        },
        {
          "output_type": "display_data",
          "data": {
            "text/html": [
              "<pre>recommendations finished on 22000/31733 queries. users per second: 7841.57</pre>"
            ],
            "text/plain": [
              "recommendations finished on 22000/31733 queries. users per second: 7841.57"
            ]
          },
          "metadata": {
            "tags": []
          }
        },
        {
          "output_type": "display_data",
          "data": {
            "text/html": [
              "<pre>recommendations finished on 23000/31733 queries. users per second: 7784.52</pre>"
            ],
            "text/plain": [
              "recommendations finished on 23000/31733 queries. users per second: 7784.52"
            ]
          },
          "metadata": {
            "tags": []
          }
        },
        {
          "output_type": "display_data",
          "data": {
            "text/html": [
              "<pre>recommendations finished on 24000/31733 queries. users per second: 7752.22</pre>"
            ],
            "text/plain": [
              "recommendations finished on 24000/31733 queries. users per second: 7752.22"
            ]
          },
          "metadata": {
            "tags": []
          }
        },
        {
          "output_type": "display_data",
          "data": {
            "text/html": [
              "<pre>recommendations finished on 25000/31733 queries. users per second: 7761.46</pre>"
            ],
            "text/plain": [
              "recommendations finished on 25000/31733 queries. users per second: 7761.46"
            ]
          },
          "metadata": {
            "tags": []
          }
        },
        {
          "output_type": "display_data",
          "data": {
            "text/html": [
              "<pre>recommendations finished on 26000/31733 queries. users per second: 7765.91</pre>"
            ],
            "text/plain": [
              "recommendations finished on 26000/31733 queries. users per second: 7765.91"
            ]
          },
          "metadata": {
            "tags": []
          }
        },
        {
          "output_type": "display_data",
          "data": {
            "text/html": [
              "<pre>recommendations finished on 27000/31733 queries. users per second: 7768.38</pre>"
            ],
            "text/plain": [
              "recommendations finished on 27000/31733 queries. users per second: 7768.38"
            ]
          },
          "metadata": {
            "tags": []
          }
        },
        {
          "output_type": "display_data",
          "data": {
            "text/html": [
              "<pre>recommendations finished on 28000/31733 queries. users per second: 7772.92</pre>"
            ],
            "text/plain": [
              "recommendations finished on 28000/31733 queries. users per second: 7772.92"
            ]
          },
          "metadata": {
            "tags": []
          }
        },
        {
          "output_type": "display_data",
          "data": {
            "text/html": [
              "<pre>recommendations finished on 29000/31733 queries. users per second: 7775.76</pre>"
            ],
            "text/plain": [
              "recommendations finished on 29000/31733 queries. users per second: 7775.76"
            ]
          },
          "metadata": {
            "tags": []
          }
        },
        {
          "output_type": "display_data",
          "data": {
            "text/html": [
              "<pre>recommendations finished on 30000/31733 queries. users per second: 7777.11</pre>"
            ],
            "text/plain": [
              "recommendations finished on 30000/31733 queries. users per second: 7777.11"
            ]
          },
          "metadata": {
            "tags": []
          }
        },
        {
          "output_type": "display_data",
          "data": {
            "text/html": [
              "<pre>recommendations finished on 31000/31733 queries. users per second: 7761.29</pre>"
            ],
            "text/plain": [
              "recommendations finished on 31000/31733 queries. users per second: 7761.29"
            ]
          },
          "metadata": {
            "tags": []
          }
        },
        {
          "output_type": "stream",
          "text": [
            "\n",
            "Precision and recall summary statistics by cutoff\n",
            "+--------+-----------------------+-----------------------+\n",
            "| cutoff |     mean_precision    |      mean_recall      |\n",
            "+--------+-----------------------+-----------------------+\n",
            "|   1    | 0.0033403712223867934 |  0.003062006953854557 |\n",
            "|   2    |  0.002347713736488822 | 0.0043330287082847495 |\n",
            "|   3    | 0.0017962373554344041 |  0.004994800365550053 |\n",
            "|   4    | 0.0014574732927866891 |  0.005435981470393594 |\n",
            "|   5    | 0.0012983329656824133 | 0.0060767445036187286 |\n",
            "|   6    | 0.0011239613861490137 |  0.006292082900030467 |\n",
            "|   7    | 0.0010129158019366962 |  0.006607212260633004 |\n",
            "|   8    | 0.0009020577947247353 |   0.006733264004874   |\n",
            "|   9    | 0.0008088320255464858 | 0.0067962898769945036 |\n",
            "|   10   |  0.000737402703809915 | 0.0068908286851752576 |\n",
            "+--------+-----------------------+-----------------------+\n",
            "[10 rows x 3 columns]\n",
            "\n",
            "\n",
            "Overall RMSE: 0.9962646594956646\n",
            "\n",
            "Per User RMSE (best)\n",
            "+------------+--------------------+-------+\n",
            "| ID_CLIENTE |        rmse        | count |\n",
            "+------------+--------------------+-------+\n",
            "|   20642    | 0.2928932309150696 |   1   |\n",
            "+------------+--------------------+-------+\n",
            "[1 rows x 3 columns]\n",
            "\n",
            "\n",
            "Per User RMSE (worst)\n",
            "+------------+------+-------+\n",
            "| ID_CLIENTE | rmse | count |\n",
            "+------------+------+-------+\n",
            "|   31998    | 1.0  |   1   |\n",
            "+------------+------+-------+\n",
            "[1 rows x 3 columns]\n",
            "\n",
            "\n",
            "Per Item RMSE (best)\n",
            "+-------------+---------------------+-------+\n",
            "| ID_PRODUCTO |         rmse        | count |\n",
            "+-------------+---------------------+-------+\n",
            "|    19095    | 0.07692307692307687 |   1   |\n",
            "+-------------+---------------------+-------+\n",
            "[1 rows x 3 columns]\n",
            "\n",
            "\n",
            "Per Item RMSE (worst)\n",
            "+-------------+------+-------+\n",
            "| ID_PRODUCTO | rmse | count |\n",
            "+-------------+------+-------+\n",
            "|    18653    | 1.0  |   3   |\n",
            "+-------------+------+-------+\n",
            "[1 rows x 3 columns]\n",
            "\n",
            "PROGRESS: Evaluate model Modelo Dummy Colaborativo - Pearson\n"
          ],
          "name": "stdout"
        },
        {
          "output_type": "display_data",
          "data": {
            "text/html": [
              "<pre>recommendations finished on 1000/31733 queries. users per second: 6213.65</pre>"
            ],
            "text/plain": [
              "recommendations finished on 1000/31733 queries. users per second: 6213.65"
            ]
          },
          "metadata": {
            "tags": []
          }
        },
        {
          "output_type": "display_data",
          "data": {
            "text/html": [
              "<pre>recommendations finished on 2000/31733 queries. users per second: 6309.09</pre>"
            ],
            "text/plain": [
              "recommendations finished on 2000/31733 queries. users per second: 6309.09"
            ]
          },
          "metadata": {
            "tags": []
          }
        },
        {
          "output_type": "display_data",
          "data": {
            "text/html": [
              "<pre>recommendations finished on 3000/31733 queries. users per second: 6368.93</pre>"
            ],
            "text/plain": [
              "recommendations finished on 3000/31733 queries. users per second: 6368.93"
            ]
          },
          "metadata": {
            "tags": []
          }
        },
        {
          "output_type": "display_data",
          "data": {
            "text/html": [
              "<pre>recommendations finished on 4000/31733 queries. users per second: 6403.53</pre>"
            ],
            "text/plain": [
              "recommendations finished on 4000/31733 queries. users per second: 6403.53"
            ]
          },
          "metadata": {
            "tags": []
          }
        },
        {
          "output_type": "display_data",
          "data": {
            "text/html": [
              "<pre>recommendations finished on 5000/31733 queries. users per second: 6436.32</pre>"
            ],
            "text/plain": [
              "recommendations finished on 5000/31733 queries. users per second: 6436.32"
            ]
          },
          "metadata": {
            "tags": []
          }
        },
        {
          "output_type": "display_data",
          "data": {
            "text/html": [
              "<pre>recommendations finished on 6000/31733 queries. users per second: 6428.62</pre>"
            ],
            "text/plain": [
              "recommendations finished on 6000/31733 queries. users per second: 6428.62"
            ]
          },
          "metadata": {
            "tags": []
          }
        },
        {
          "output_type": "display_data",
          "data": {
            "text/html": [
              "<pre>recommendations finished on 7000/31733 queries. users per second: 6425.05</pre>"
            ],
            "text/plain": [
              "recommendations finished on 7000/31733 queries. users per second: 6425.05"
            ]
          },
          "metadata": {
            "tags": []
          }
        },
        {
          "output_type": "display_data",
          "data": {
            "text/html": [
              "<pre>recommendations finished on 8000/31733 queries. users per second: 6418.74</pre>"
            ],
            "text/plain": [
              "recommendations finished on 8000/31733 queries. users per second: 6418.74"
            ]
          },
          "metadata": {
            "tags": []
          }
        },
        {
          "output_type": "display_data",
          "data": {
            "text/html": [
              "<pre>recommendations finished on 9000/31733 queries. users per second: 6430.13</pre>"
            ],
            "text/plain": [
              "recommendations finished on 9000/31733 queries. users per second: 6430.13"
            ]
          },
          "metadata": {
            "tags": []
          }
        },
        {
          "output_type": "display_data",
          "data": {
            "text/html": [
              "<pre>recommendations finished on 10000/31733 queries. users per second: 6438.35</pre>"
            ],
            "text/plain": [
              "recommendations finished on 10000/31733 queries. users per second: 6438.35"
            ]
          },
          "metadata": {
            "tags": []
          }
        },
        {
          "output_type": "display_data",
          "data": {
            "text/html": [
              "<pre>recommendations finished on 11000/31733 queries. users per second: 6428.26</pre>"
            ],
            "text/plain": [
              "recommendations finished on 11000/31733 queries. users per second: 6428.26"
            ]
          },
          "metadata": {
            "tags": []
          }
        },
        {
          "output_type": "display_data",
          "data": {
            "text/html": [
              "<pre>recommendations finished on 12000/31733 queries. users per second: 6403.95</pre>"
            ],
            "text/plain": [
              "recommendations finished on 12000/31733 queries. users per second: 6403.95"
            ]
          },
          "metadata": {
            "tags": []
          }
        },
        {
          "output_type": "display_data",
          "data": {
            "text/html": [
              "<pre>recommendations finished on 13000/31733 queries. users per second: 6404.04</pre>"
            ],
            "text/plain": [
              "recommendations finished on 13000/31733 queries. users per second: 6404.04"
            ]
          },
          "metadata": {
            "tags": []
          }
        },
        {
          "output_type": "display_data",
          "data": {
            "text/html": [
              "<pre>recommendations finished on 14000/31733 queries. users per second: 6405.2</pre>"
            ],
            "text/plain": [
              "recommendations finished on 14000/31733 queries. users per second: 6405.2"
            ]
          },
          "metadata": {
            "tags": []
          }
        },
        {
          "output_type": "display_data",
          "data": {
            "text/html": [
              "<pre>recommendations finished on 15000/31733 queries. users per second: 6413.97</pre>"
            ],
            "text/plain": [
              "recommendations finished on 15000/31733 queries. users per second: 6413.97"
            ]
          },
          "metadata": {
            "tags": []
          }
        },
        {
          "output_type": "display_data",
          "data": {
            "text/html": [
              "<pre>recommendations finished on 16000/31733 queries. users per second: 6410.27</pre>"
            ],
            "text/plain": [
              "recommendations finished on 16000/31733 queries. users per second: 6410.27"
            ]
          },
          "metadata": {
            "tags": []
          }
        },
        {
          "output_type": "display_data",
          "data": {
            "text/html": [
              "<pre>recommendations finished on 17000/31733 queries. users per second: 6421.27</pre>"
            ],
            "text/plain": [
              "recommendations finished on 17000/31733 queries. users per second: 6421.27"
            ]
          },
          "metadata": {
            "tags": []
          }
        },
        {
          "output_type": "display_data",
          "data": {
            "text/html": [
              "<pre>recommendations finished on 18000/31733 queries. users per second: 6404.19</pre>"
            ],
            "text/plain": [
              "recommendations finished on 18000/31733 queries. users per second: 6404.19"
            ]
          },
          "metadata": {
            "tags": []
          }
        },
        {
          "output_type": "display_data",
          "data": {
            "text/html": [
              "<pre>recommendations finished on 19000/31733 queries. users per second: 6389.17</pre>"
            ],
            "text/plain": [
              "recommendations finished on 19000/31733 queries. users per second: 6389.17"
            ]
          },
          "metadata": {
            "tags": []
          }
        },
        {
          "output_type": "display_data",
          "data": {
            "text/html": [
              "<pre>recommendations finished on 20000/31733 queries. users per second: 6396.99</pre>"
            ],
            "text/plain": [
              "recommendations finished on 20000/31733 queries. users per second: 6396.99"
            ]
          },
          "metadata": {
            "tags": []
          }
        },
        {
          "output_type": "display_data",
          "data": {
            "text/html": [
              "<pre>recommendations finished on 21000/31733 queries. users per second: 6398.47</pre>"
            ],
            "text/plain": [
              "recommendations finished on 21000/31733 queries. users per second: 6398.47"
            ]
          },
          "metadata": {
            "tags": []
          }
        },
        {
          "output_type": "display_data",
          "data": {
            "text/html": [
              "<pre>recommendations finished on 22000/31733 queries. users per second: 6404.22</pre>"
            ],
            "text/plain": [
              "recommendations finished on 22000/31733 queries. users per second: 6404.22"
            ]
          },
          "metadata": {
            "tags": []
          }
        },
        {
          "output_type": "display_data",
          "data": {
            "text/html": [
              "<pre>recommendations finished on 23000/31733 queries. users per second: 6382.27</pre>"
            ],
            "text/plain": [
              "recommendations finished on 23000/31733 queries. users per second: 6382.27"
            ]
          },
          "metadata": {
            "tags": []
          }
        },
        {
          "output_type": "display_data",
          "data": {
            "text/html": [
              "<pre>recommendations finished on 24000/31733 queries. users per second: 6340.3</pre>"
            ],
            "text/plain": [
              "recommendations finished on 24000/31733 queries. users per second: 6340.3"
            ]
          },
          "metadata": {
            "tags": []
          }
        },
        {
          "output_type": "display_data",
          "data": {
            "text/html": [
              "<pre>recommendations finished on 25000/31733 queries. users per second: 6341.18</pre>"
            ],
            "text/plain": [
              "recommendations finished on 25000/31733 queries. users per second: 6341.18"
            ]
          },
          "metadata": {
            "tags": []
          }
        },
        {
          "output_type": "display_data",
          "data": {
            "text/html": [
              "<pre>recommendations finished on 26000/31733 queries. users per second: 6344.78</pre>"
            ],
            "text/plain": [
              "recommendations finished on 26000/31733 queries. users per second: 6344.78"
            ]
          },
          "metadata": {
            "tags": []
          }
        },
        {
          "output_type": "display_data",
          "data": {
            "text/html": [
              "<pre>recommendations finished on 27000/31733 queries. users per second: 6354.08</pre>"
            ],
            "text/plain": [
              "recommendations finished on 27000/31733 queries. users per second: 6354.08"
            ]
          },
          "metadata": {
            "tags": []
          }
        },
        {
          "output_type": "display_data",
          "data": {
            "text/html": [
              "<pre>recommendations finished on 28000/31733 queries. users per second: 6357.78</pre>"
            ],
            "text/plain": [
              "recommendations finished on 28000/31733 queries. users per second: 6357.78"
            ]
          },
          "metadata": {
            "tags": []
          }
        },
        {
          "output_type": "display_data",
          "data": {
            "text/html": [
              "<pre>recommendations finished on 29000/31733 queries. users per second: 6352.94</pre>"
            ],
            "text/plain": [
              "recommendations finished on 29000/31733 queries. users per second: 6352.94"
            ]
          },
          "metadata": {
            "tags": []
          }
        },
        {
          "output_type": "display_data",
          "data": {
            "text/html": [
              "<pre>recommendations finished on 30000/31733 queries. users per second: 6351.51</pre>"
            ],
            "text/plain": [
              "recommendations finished on 30000/31733 queries. users per second: 6351.51"
            ]
          },
          "metadata": {
            "tags": []
          }
        },
        {
          "output_type": "display_data",
          "data": {
            "text/html": [
              "<pre>recommendations finished on 31000/31733 queries. users per second: 6350.75</pre>"
            ],
            "text/plain": [
              "recommendations finished on 31000/31733 queries. users per second: 6350.75"
            ]
          },
          "metadata": {
            "tags": []
          }
        },
        {
          "output_type": "stream",
          "text": [
            "\n",
            "Precision and recall summary statistics by cutoff\n",
            "+--------+-----------------------+-----------------------+\n",
            "| cutoff |     mean_precision    |      mean_recall      |\n",
            "+--------+-----------------------+-----------------------+\n",
            "|   1    |          0.0          |          0.0          |\n",
            "|   2    |          0.0          |          0.0          |\n",
            "|   3    |          0.0          |          0.0          |\n",
            "|   4    |          0.0          |          0.0          |\n",
            "|   5    | 6.302587212050543e-06 | 3.151293606025274e-05 |\n",
            "|   6    | 5.252156010042126e-06 | 3.151293606025274e-05 |\n",
            "|   7    |  9.00369601721508e-06 | 6.302587212050541e-05 |\n",
            "|   8    |  7.87823401506314e-06 | 6.302587212050511e-05 |\n",
            "|   9    | 1.050431202008423e-05 | 9.453880818075808e-05 |\n",
            "|   10   | 9.453880818075825e-06 | 9.453880818075834e-05 |\n",
            "+--------+-----------------------+-----------------------+\n",
            "[10 rows x 3 columns]\n",
            "\n",
            "\n",
            "Overall RMSE: 1.0\n",
            "\n",
            "Per User RMSE (best)\n",
            "+------------+------+-------+\n",
            "| ID_CLIENTE | rmse | count |\n",
            "+------------+------+-------+\n",
            "|   47768    | 1.0  |   1   |\n",
            "+------------+------+-------+\n",
            "[1 rows x 3 columns]\n",
            "\n",
            "\n",
            "Per User RMSE (worst)\n",
            "+------------+------+-------+\n",
            "| ID_CLIENTE | rmse | count |\n",
            "+------------+------+-------+\n",
            "|   31998    | 1.0  |   1   |\n",
            "+------------+------+-------+\n",
            "[1 rows x 3 columns]\n",
            "\n",
            "\n",
            "Per Item RMSE (best)\n",
            "+-------------+------+-------+\n",
            "| ID_PRODUCTO | rmse | count |\n",
            "+-------------+------+-------+\n",
            "|     3155    | 1.0  |   1   |\n",
            "+-------------+------+-------+\n",
            "[1 rows x 3 columns]\n",
            "\n",
            "\n",
            "Per Item RMSE (worst)\n",
            "+-------------+------+-------+\n",
            "| ID_PRODUCTO | rmse | count |\n",
            "+-------------+------+-------+\n",
            "|    18653    | 1.0  |   3   |\n",
            "+-------------+------+-------+\n",
            "[1 rows x 3 columns]\n",
            "\n"
          ],
          "name": "stdout"
        }
      ]
    },
    {
      "cell_type": "markdown",
      "metadata": {
        "colab_type": "text",
        "id": "0eS0qbkHwduk"
      },
      "source": [
        "### 1.6 Exportar recomendaciones\n",
        "Con los resultado obtenidos podemos identificar que el mejor modelo es el Pearson, por tal motivo se exporta su información . "
      ]
    },
    {
      "cell_type": "code",
      "metadata": {
        "colab_type": "code",
        "id": "u7JAws8Yc6F2",
        "outputId": "06d64981-745f-4fb9-c66e-feda55793b7e",
        "colab": {
          "base_uri": "https://localhost:8080/",
          "height": 238
        }
      },
      "source": [
        "from google.colab import files\n",
        "lista_clientes =  list(data_norm.ID_CLIENTE.unique())\n",
        "recomendaciones = fac_coseno.recommend(users=lista_clientes, k=5) \n",
        "resultado = recomendaciones.to_dataframe()"
      ],
      "execution_count": 46,
      "outputs": [
        {
          "output_type": "display_data",
          "data": {
            "text/html": [
              "<pre>recommendations finished on 1000/13272 queries. users per second: 57603.7</pre>"
            ],
            "text/plain": [
              "recommendations finished on 1000/13272 queries. users per second: 57603.7"
            ]
          },
          "metadata": {
            "tags": []
          }
        },
        {
          "output_type": "display_data",
          "data": {
            "text/html": [
              "<pre>recommendations finished on 2000/13272 queries. users per second: 56465.3</pre>"
            ],
            "text/plain": [
              "recommendations finished on 2000/13272 queries. users per second: 56465.3"
            ]
          },
          "metadata": {
            "tags": []
          }
        },
        {
          "output_type": "display_data",
          "data": {
            "text/html": [
              "<pre>recommendations finished on 3000/13272 queries. users per second: 56237.7</pre>"
            ],
            "text/plain": [
              "recommendations finished on 3000/13272 queries. users per second: 56237.7"
            ]
          },
          "metadata": {
            "tags": []
          }
        },
        {
          "output_type": "display_data",
          "data": {
            "text/html": [
              "<pre>recommendations finished on 4000/13272 queries. users per second: 55697.1</pre>"
            ],
            "text/plain": [
              "recommendations finished on 4000/13272 queries. users per second: 55697.1"
            ]
          },
          "metadata": {
            "tags": []
          }
        },
        {
          "output_type": "display_data",
          "data": {
            "text/html": [
              "<pre>recommendations finished on 5000/13272 queries. users per second: 55883.4</pre>"
            ],
            "text/plain": [
              "recommendations finished on 5000/13272 queries. users per second: 55883.4"
            ]
          },
          "metadata": {
            "tags": []
          }
        },
        {
          "output_type": "display_data",
          "data": {
            "text/html": [
              "<pre>recommendations finished on 6000/13272 queries. users per second: 55739.3</pre>"
            ],
            "text/plain": [
              "recommendations finished on 6000/13272 queries. users per second: 55739.3"
            ]
          },
          "metadata": {
            "tags": []
          }
        },
        {
          "output_type": "display_data",
          "data": {
            "text/html": [
              "<pre>recommendations finished on 7000/13272 queries. users per second: 55668.7</pre>"
            ],
            "text/plain": [
              "recommendations finished on 7000/13272 queries. users per second: 55668.7"
            ]
          },
          "metadata": {
            "tags": []
          }
        },
        {
          "output_type": "display_data",
          "data": {
            "text/html": [
              "<pre>recommendations finished on 8000/13272 queries. users per second: 55295.6</pre>"
            ],
            "text/plain": [
              "recommendations finished on 8000/13272 queries. users per second: 55295.6"
            ]
          },
          "metadata": {
            "tags": []
          }
        },
        {
          "output_type": "display_data",
          "data": {
            "text/html": [
              "<pre>recommendations finished on 9000/13272 queries. users per second: 55257.1</pre>"
            ],
            "text/plain": [
              "recommendations finished on 9000/13272 queries. users per second: 55257.1"
            ]
          },
          "metadata": {
            "tags": []
          }
        },
        {
          "output_type": "display_data",
          "data": {
            "text/html": [
              "<pre>recommendations finished on 10000/13272 queries. users per second: 55167.5</pre>"
            ],
            "text/plain": [
              "recommendations finished on 10000/13272 queries. users per second: 55167.5"
            ]
          },
          "metadata": {
            "tags": []
          }
        },
        {
          "output_type": "display_data",
          "data": {
            "text/html": [
              "<pre>recommendations finished on 11000/13272 queries. users per second: 55028.3</pre>"
            ],
            "text/plain": [
              "recommendations finished on 11000/13272 queries. users per second: 55028.3"
            ]
          },
          "metadata": {
            "tags": []
          }
        },
        {
          "output_type": "display_data",
          "data": {
            "text/html": [
              "<pre>recommendations finished on 12000/13272 queries. users per second: 54798.8</pre>"
            ],
            "text/plain": [
              "recommendations finished on 12000/13272 queries. users per second: 54798.8"
            ]
          },
          "metadata": {
            "tags": []
          }
        },
        {
          "output_type": "display_data",
          "data": {
            "text/html": [
              "<pre>recommendations finished on 13000/13272 queries. users per second: 54256</pre>"
            ],
            "text/plain": [
              "recommendations finished on 13000/13272 queries. users per second: 54256"
            ]
          },
          "metadata": {
            "tags": []
          }
        }
      ]
    },
    {
      "cell_type": "code",
      "metadata": {
        "id": "49TvJTRbuCi7",
        "colab_type": "code",
        "colab": {
          "base_uri": "https://localhost:8080/",
          "height": 34
        },
        "outputId": "6286f2a2-4166-4793-b9ba-772b523ebd11"
      },
      "source": [
        "resultado.to_csv('recomendaciones_prod_cliente.csv')\n",
        "# verifico el archivo \n",
        "!dir"
      ],
      "execution_count": 51,
      "outputs": [
        {
          "output_type": "stream",
          "text": [
            "recomendaciones_prod_cliente.csv  sample_data\n"
          ],
          "name": "stdout"
        }
      ]
    },
    {
      "cell_type": "code",
      "metadata": {
        "id": "Bl-NK0b8sxN4",
        "colab_type": "code",
        "colab": {}
      },
      "source": [
        "files.download('recomendaciones_prod_cliente.csv')"
      ],
      "execution_count": 0,
      "outputs": []
    }
  ]
}